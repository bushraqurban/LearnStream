{
 "cells": [
  {
   "cell_type": "markdown",
   "id": "16b8f24e",
   "metadata": {
    "execution": {
     "iopub.execute_input": "2025-01-26T11:18:19.180530Z",
     "iopub.status.busy": "2025-01-26T11:18:19.180161Z",
     "iopub.status.idle": "2025-01-26T11:18:19.267703Z",
     "shell.execute_reply": "2025-01-26T11:18:19.266170Z",
     "shell.execute_reply.started": "2025-01-26T11:18:19.180503Z"
    },
    "papermill": {
     "duration": 0.006668,
     "end_time": "2025-01-26T12:19:33.798600",
     "exception": false,
     "start_time": "2025-01-26T12:19:33.791932",
     "status": "completed"
    },
    "tags": []
   },
   "source": [
    "<div style=\"font-family: 'Cinzel', serif; background-color: #A6CEE3; padding: 30px; border-radius: 10px; box-shadow: 0 4px 8px rgba(0, 0, 0, 0.2);\">\n",
    "  <!-- Centered Title -->\n",
    "  <div style=\"font-size: 36px; font-weight: bold; color: #ffffff; text-align: center; letter-spacing: 1px;\">\n",
    "    🎓 Coursera Course Recommender System\n",
    "  </div>\n",
    "</div>\n",
    "\n",
    "<h2 style=\"font-family: 'Cinzel', serif;color: #5C7D8C;\">🎯 Purpose</h2>\n",
    "<p>This notebook demonstrates how to build a Coursera Course Recommendation System using machine learning techniques. It recommends relevant courses based on course details and ratings, leveraging text data like course names, descriptions, skills, and ratings.</p>\n",
    "\n",
    "<hr>\n",
    "\n",
    "<h2 style=\"font-family: 'Cinzel', serif;color: #5C7D8C;\">🔗 Useful Links</h2>\n",
    "<ul>\n",
    "    <li><a href=\"https://github.com/bushraqurban/LearnStream/\" target=\"_blank\">GitHub Repository</a></li>\n",
    "    <li><a href=\"https://mechanical-oralia-bushra-e3bf072d.koyeb.app\" target=\"_blank\">Live App</a></li>\n",
    "</ul>\n",
    "\n",
    "<hr>\n",
    "\n",
    "<h2 style=\"font-family: 'Cinzel', serif;color: #5C7D8C;\">🗂️ Dataset Overview</h2>\n",
    "<ul>\n",
    "    <li>The dataset is from the <a href=\"https://www.kaggle.com/khusheekapoor/coursera-courses-dataset-2021\" target=\"_blank\">Coursera Courses Dataset</a> and contains over 3,000 courses.</li>\n",
    "    <li>We use course details such as the name, description, and skills to build the recommendation model by calculating semantic similarities. Additionally, we incorporate course ratings to adjust the recommendations, prioritizing highly-rated, relevant courses.</li>\n",
    "</ul>\n",
    "\n",
    "<hr>\n",
    "\n",
    "<h2 style=\"font-family: 'Cinzel', serif;color: #5C7D8C;\">🎓 Walkthrough of This Notebook</h2>\n",
    "<p>This notebook is a step-by-step guide to building a recommendation system. Here's the high-level process:</p>\n",
    "\n",
    "<h3 style=\"font-family: 'Cinzel', serif;color: #5C7D8C;\">1. Import Essential Libraries</h3>\n",
    "<p>We start by importing libraries like `pandas`, `scikit-learn`, and `nltk` to process the data and perform the machine learning tasks.</p>\n",
    "<pre><code>import numpy as np\n",
    "import pandas as pd\n",
    "from sklearn.feature_extraction.text import TfidfVectorizer\n",
    "from sklearn.metrics.pairwise import cosine_similarity\n",
    "from nltk.stem import WordNetLemmatizer\n",
    "from sklearn.decomposition import TruncatedSVD\n",
    "import pickle\n",
    "import nltk\n",
    "import re\n",
    "from nltk.corpus import wordnet</code></pre>\n",
    "\n",
    "<h3 style=\"font-family: 'Cinzel', serif;color: #5C7D8C;\">2. Load the Dataset</h3>\n",
    "<p>We load the dataset containing 3,524 Coursera courses into a `pandas` DataFrame and inspect it for structure, missing values, and duplicates.</p>\n",
    "<pre><code>data = pd.read_csv(\"/kaggle/input/coursera-courses-dataset-2021/Coursera.csv\", encoding='utf-8')\n",
    "data.head()</code></pre>\n",
    "\n",
    "<h3 style=\"font-family: 'Cinzel', serif;color: #5C7D8C;\">3. Data Preprocessing</h3>\n",
    "<p>We clean the course name, description, and skills columns by removing unwanted characters and converting text to lowercase.</p>\n",
    "<pre><code>def clean_for_tags(text):\n",
    "    text = re.sub(r'��+', '', text) \n",
    "    text = re.sub(r'[^\\x00-\\x7F]+', '', text) \n",
    "    text = re.sub(r'[^a-zA-Z\\s]', '', text) \n",
    "    text = text.lower()  \n",
    "    text = ' '.join([lemmatizer.lemmatize(word) for word in text.split()])  \n",
    "    return text</code></pre>\n",
    "\n",
    "<h3 style=\"font-family: 'Cinzel', serif;color: #5C7D8C;\">4. Text Vectorization with TF-IDF</h3>\n",
    "<p>We convert text data into numerical vectors using the TF-IDF vectorizer, which helps machine learning models understand the importance of each term.</p>\n",
    "<pre><code>vectorizer = TfidfVectorizer(stop_words='english', max_features=5000)\n",
    "tfidf_matrix = vectorizer.fit_transform(training_data['tags'])</code></pre>\n",
    "\n",
    "<h3 style=\"font-family: 'Cinzel', serif;color: #5C7D8C;\">5. Dimensionality Reduction with SVD</h3>\n",
    "<p>To make the data more manageable, we reduce the dimensions of the TF-IDF matrix using Singular Value Decomposition (SVD), enhancing performance.</p>\n",
    "<pre><code>svd = TruncatedSVD(n_components=100, random_state=42)\n",
    "tfidf_matrix = svd.fit_transform(tfidf_matrix)</code></pre>\n",
    "\n",
    "<h3 style=\"font-family: 'Cinzel', serif;color: #5C7D8C;\">6. Cosine Similarity</h3>\n",
    "<p>We calculate the cosine similarity between courses based on their TF-IDF vectors. This helps us identify courses that are most similar to each other.</p>\n",
    "<pre><code>similarity_matrix = cosine_similarity(tfidf_matrix)</code></pre>\n",
    "\n",
    "<h3 style=\"font-family: 'Cinzel', serif;color: #5C7D8C;\">7. Get Recommendations</h3>\n",
    "<p>We create a function that returns the top N courses based on their similarity to a selected course. Course ratings are also taken into account to improve recommendations.</p>\n",
    "<pre><code>def get_recommendations(course_name, data, similarity_matrix, top_n=3, rating_weight=0.05):</code></pre>\n",
    "\n",
    "<h3 style=\"font-family: 'Cinzel', serif;color: #5C7D8C;\">8. Save the Model</h3>\n",
    "<p>Finally, we save the similarity matrix model using `pickle` for future use, so we don’t have to retrain the model each time.</p>\n",
    "<pre><code>pickle.dump(similarity_matrix, open('similarity_matrix.pkl', 'wb'))</code></pre>\n"
   ]
  },
  {
   "cell_type": "markdown",
   "id": "f04f9d99",
   "metadata": {
    "execution": {
     "iopub.execute_input": "2025-01-25T20:26:05.929949Z",
     "iopub.status.busy": "2025-01-25T20:26:05.929565Z",
     "iopub.status.idle": "2025-01-25T20:26:05.937167Z",
     "shell.execute_reply": "2025-01-25T20:26:05.935893Z",
     "shell.execute_reply.started": "2025-01-25T20:26:05.929922Z"
    },
    "papermill": {
     "duration": 0.005713,
     "end_time": "2025-01-26T12:19:33.810523",
     "exception": false,
     "start_time": "2025-01-26T12:19:33.804810",
     "status": "completed"
    },
    "tags": []
   },
   "source": [
    "<div style=\"background-color: #A6CEE3; padding: 10px 20px; border-radius: 10px; box-shadow: 0 4px 8px rgba(0, 0, 0, 0.2);\">\n",
    "  <!-- Centered Title with Larger Vertical Bar -->\n",
    "  <div style=\"font-family: 'Cinzel', serif; font-size: 30px; font-weight: bold; color: #ffffff; text-align: left; letter-spacing: 1px;\">\n",
    "    <span style=\"font-size: 50px; margin-right: 15px;\">|</span> Importing Essential Tools\n",
    "  </div>\n",
    "</div>\n",
    "\n"
   ]
  },
  {
   "cell_type": "code",
   "execution_count": 1,
   "id": "24cd1540",
   "metadata": {
    "execution": {
     "iopub.execute_input": "2025-01-26T12:19:33.823735Z",
     "iopub.status.busy": "2025-01-26T12:19:33.823343Z",
     "iopub.status.idle": "2025-01-26T12:19:37.294461Z",
     "shell.execute_reply": "2025-01-26T12:19:37.293081Z"
    },
    "papermill": {
     "duration": 3.48003,
     "end_time": "2025-01-26T12:19:37.296390",
     "exception": false,
     "start_time": "2025-01-26T12:19:33.816360",
     "status": "completed"
    },
    "tags": []
   },
   "outputs": [
    {
     "name": "stdout",
     "output_type": "stream",
     "text": [
      "[nltk_data] Downloading package wordnet to /usr/share/nltk_data...\n",
      "[nltk_data]   Package wordnet is already up-to-date!\n",
      "Dependencies Imported\n"
     ]
    }
   ],
   "source": [
    "import numpy as np\n",
    "import pandas as pd\n",
    "from sklearn.feature_extraction.text import TfidfVectorizer\n",
    "from sklearn.metrics.pairwise import cosine_similarity\n",
    "from nltk.stem import WordNetLemmatizer\n",
    "from sklearn.decomposition import TruncatedSVD\n",
    "import pickle\n",
    "import nltk\n",
    "import re\n",
    "from nltk.corpus import wordnet\n",
    "\n",
    "# Download wordnet once (if needed)\n",
    "try:\n",
    "    nltk.data.find('corpora/wordnet')\n",
    "except LookupError:\n",
    "    nltk.download('wordnet')\n",
    "\n",
    "\n",
    "print('Dependencies Imported')"
   ]
  },
  {
   "cell_type": "markdown",
   "id": "143dc0e7",
   "metadata": {
    "papermill": {
     "duration": 0.005812,
     "end_time": "2025-01-26T12:19:37.308596",
     "exception": false,
     "start_time": "2025-01-26T12:19:37.302784",
     "status": "completed"
    },
    "tags": []
   },
   "source": [
    "<div style=\"background-color: #A6CEE3; padding: 10px 20px; border-radius: 10px; box-shadow: 0 4px 8px rgba(0, 0, 0, 0.2);\">\n",
    "  <!-- Centered Title with Larger Vertical Bar -->\n",
    "  <div style=\"font-family: 'Cinzel', serif; font-size: 30px; font-weight: bold; color: #ffffff; text-align: left; letter-spacing: 1px;\">\n",
    "    <span style=\"font-size: 50px; margin-right: 15px;\">|</span> Load Dataset\n",
    "  </div>\n",
    "</div>\n",
    "\n"
   ]
  },
  {
   "cell_type": "code",
   "execution_count": 2,
   "id": "a017ae85",
   "metadata": {
    "execution": {
     "iopub.execute_input": "2025-01-26T12:19:37.322296Z",
     "iopub.status.busy": "2025-01-26T12:19:37.321767Z",
     "iopub.status.idle": "2025-01-26T12:19:37.528313Z",
     "shell.execute_reply": "2025-01-26T12:19:37.527173Z"
    },
    "papermill": {
     "duration": 0.215862,
     "end_time": "2025-01-26T12:19:37.530395",
     "exception": false,
     "start_time": "2025-01-26T12:19:37.314533",
     "status": "completed"
    },
    "tags": []
   },
   "outputs": [],
   "source": [
    "data = pd.read_csv(\"/kaggle/input/coursera-courses-dataset-2021/Coursera.csv\", encoding='utf-8')"
   ]
  },
  {
   "cell_type": "code",
   "execution_count": 3,
   "id": "622d24fd",
   "metadata": {
    "execution": {
     "iopub.execute_input": "2025-01-26T12:19:37.544271Z",
     "iopub.status.busy": "2025-01-26T12:19:37.543925Z",
     "iopub.status.idle": "2025-01-26T12:19:37.569309Z",
     "shell.execute_reply": "2025-01-26T12:19:37.568180Z"
    },
    "papermill": {
     "duration": 0.034287,
     "end_time": "2025-01-26T12:19:37.571090",
     "exception": false,
     "start_time": "2025-01-26T12:19:37.536803",
     "status": "completed"
    },
    "tags": []
   },
   "outputs": [
    {
     "data": {
      "text/html": [
       "<div>\n",
       "<style scoped>\n",
       "    .dataframe tbody tr th:only-of-type {\n",
       "        vertical-align: middle;\n",
       "    }\n",
       "\n",
       "    .dataframe tbody tr th {\n",
       "        vertical-align: top;\n",
       "    }\n",
       "\n",
       "    .dataframe thead th {\n",
       "        text-align: right;\n",
       "    }\n",
       "</style>\n",
       "<table border=\"1\" class=\"dataframe\">\n",
       "  <thead>\n",
       "    <tr style=\"text-align: right;\">\n",
       "      <th></th>\n",
       "      <th>Course Name</th>\n",
       "      <th>University</th>\n",
       "      <th>Difficulty Level</th>\n",
       "      <th>Course Rating</th>\n",
       "      <th>Course URL</th>\n",
       "      <th>Course Description</th>\n",
       "      <th>Skills</th>\n",
       "    </tr>\n",
       "  </thead>\n",
       "  <tbody>\n",
       "    <tr>\n",
       "      <th>0</th>\n",
       "      <td>Write A Feature Length Screenplay For Film Or ...</td>\n",
       "      <td>Michigan State University</td>\n",
       "      <td>Beginner</td>\n",
       "      <td>4.8</td>\n",
       "      <td>https://www.coursera.org/learn/write-a-feature...</td>\n",
       "      <td>Write a Full Length Feature Film Script  In th...</td>\n",
       "      <td>Drama  Comedy  peering  screenwriting  film  D...</td>\n",
       "    </tr>\n",
       "    <tr>\n",
       "      <th>1</th>\n",
       "      <td>Business Strategy: Business Model Canvas Analy...</td>\n",
       "      <td>Coursera Project Network</td>\n",
       "      <td>Beginner</td>\n",
       "      <td>4.8</td>\n",
       "      <td>https://www.coursera.org/learn/canvas-analysis...</td>\n",
       "      <td>By the end of this guided project, you will be...</td>\n",
       "      <td>Finance  business plan  persona (user experien...</td>\n",
       "    </tr>\n",
       "    <tr>\n",
       "      <th>2</th>\n",
       "      <td>Silicon Thin Film Solar Cells</td>\n",
       "      <td>�cole Polytechnique</td>\n",
       "      <td>Advanced</td>\n",
       "      <td>4.1</td>\n",
       "      <td>https://www.coursera.org/learn/silicon-thin-fi...</td>\n",
       "      <td>This course consists of a general presentation...</td>\n",
       "      <td>chemistry  physics  Solar Energy  film  lambda...</td>\n",
       "    </tr>\n",
       "    <tr>\n",
       "      <th>3</th>\n",
       "      <td>Finance for Managers</td>\n",
       "      <td>IESE Business School</td>\n",
       "      <td>Intermediate</td>\n",
       "      <td>4.8</td>\n",
       "      <td>https://www.coursera.org/learn/operational-fin...</td>\n",
       "      <td>When it comes to numbers, there is always more...</td>\n",
       "      <td>accounts receivable  dupont analysis  analysis...</td>\n",
       "    </tr>\n",
       "    <tr>\n",
       "      <th>4</th>\n",
       "      <td>Retrieve Data using Single-Table SQL Queries</td>\n",
       "      <td>Coursera Project Network</td>\n",
       "      <td>Beginner</td>\n",
       "      <td>4.6</td>\n",
       "      <td>https://www.coursera.org/learn/single-table-sq...</td>\n",
       "      <td>In this course you�ll learn how to effectively...</td>\n",
       "      <td>Data Analysis  select (sql)  database manageme...</td>\n",
       "    </tr>\n",
       "  </tbody>\n",
       "</table>\n",
       "</div>"
      ],
      "text/plain": [
       "                                         Course Name  \\\n",
       "0  Write A Feature Length Screenplay For Film Or ...   \n",
       "1  Business Strategy: Business Model Canvas Analy...   \n",
       "2                      Silicon Thin Film Solar Cells   \n",
       "3                               Finance for Managers   \n",
       "4       Retrieve Data using Single-Table SQL Queries   \n",
       "\n",
       "                  University Difficulty Level Course Rating  \\\n",
       "0  Michigan State University         Beginner           4.8   \n",
       "1   Coursera Project Network         Beginner           4.8   \n",
       "2        �cole Polytechnique         Advanced           4.1   \n",
       "3       IESE Business School     Intermediate           4.8   \n",
       "4   Coursera Project Network         Beginner           4.6   \n",
       "\n",
       "                                          Course URL  \\\n",
       "0  https://www.coursera.org/learn/write-a-feature...   \n",
       "1  https://www.coursera.org/learn/canvas-analysis...   \n",
       "2  https://www.coursera.org/learn/silicon-thin-fi...   \n",
       "3  https://www.coursera.org/learn/operational-fin...   \n",
       "4  https://www.coursera.org/learn/single-table-sq...   \n",
       "\n",
       "                                  Course Description  \\\n",
       "0  Write a Full Length Feature Film Script  In th...   \n",
       "1  By the end of this guided project, you will be...   \n",
       "2  This course consists of a general presentation...   \n",
       "3  When it comes to numbers, there is always more...   \n",
       "4  In this course you�ll learn how to effectively...   \n",
       "\n",
       "                                              Skills  \n",
       "0  Drama  Comedy  peering  screenwriting  film  D...  \n",
       "1  Finance  business plan  persona (user experien...  \n",
       "2  chemistry  physics  Solar Energy  film  lambda...  \n",
       "3  accounts receivable  dupont analysis  analysis...  \n",
       "4  Data Analysis  select (sql)  database manageme...  "
      ]
     },
     "execution_count": 3,
     "metadata": {},
     "output_type": "execute_result"
    }
   ],
   "source": [
    "data.head()"
   ]
  },
  {
   "cell_type": "markdown",
   "id": "823f7f10",
   "metadata": {
    "papermill": {
     "duration": 0.006147,
     "end_time": "2025-01-26T12:19:37.583704",
     "exception": false,
     "start_time": "2025-01-26T12:19:37.577557",
     "status": "completed"
    },
    "tags": []
   },
   "source": [
    "<div style=\"background-color: #A6CEE3; padding: 10px 20px; border-radius: 10px; box-shadow: 0 4px 8px rgba(0, 0, 0, 0.2);\">\n",
    "  <!-- Centered Title with Larger Vertical Bar -->\n",
    "  <div style=\"font-family: 'Cinzel', serif; font-size: 30px; font-weight: bold; color: #ffffff; text-align: left; letter-spacing: 1px;\">\n",
    "    <span style=\"font-size: 50px; margin-right: 15px;\">|</span> Basic Data Inspection\n",
    "  </div>\n",
    "</div>\n",
    "\n"
   ]
  },
  {
   "cell_type": "code",
   "execution_count": 4,
   "id": "ef223f00",
   "metadata": {
    "execution": {
     "iopub.execute_input": "2025-01-26T12:19:37.597479Z",
     "iopub.status.busy": "2025-01-26T12:19:37.597100Z",
     "iopub.status.idle": "2025-01-26T12:19:37.602718Z",
     "shell.execute_reply": "2025-01-26T12:19:37.601887Z"
    },
    "papermill": {
     "duration": 0.014371,
     "end_time": "2025-01-26T12:19:37.604359",
     "exception": false,
     "start_time": "2025-01-26T12:19:37.589988",
     "status": "completed"
    },
    "scrolled": true,
    "tags": []
   },
   "outputs": [
    {
     "data": {
      "text/plain": [
       "(3522, 7)"
      ]
     },
     "execution_count": 4,
     "metadata": {},
     "output_type": "execute_result"
    }
   ],
   "source": [
    "data.shape"
   ]
  },
  {
   "cell_type": "code",
   "execution_count": 5,
   "id": "362643e3",
   "metadata": {
    "execution": {
     "iopub.execute_input": "2025-01-26T12:19:37.619035Z",
     "iopub.status.busy": "2025-01-26T12:19:37.618579Z",
     "iopub.status.idle": "2025-01-26T12:19:37.646272Z",
     "shell.execute_reply": "2025-01-26T12:19:37.644981Z"
    },
    "papermill": {
     "duration": 0.037492,
     "end_time": "2025-01-26T12:19:37.648403",
     "exception": false,
     "start_time": "2025-01-26T12:19:37.610911",
     "status": "completed"
    },
    "scrolled": true,
    "tags": []
   },
   "outputs": [
    {
     "name": "stdout",
     "output_type": "stream",
     "text": [
      "<class 'pandas.core.frame.DataFrame'>\n",
      "RangeIndex: 3522 entries, 0 to 3521\n",
      "Data columns (total 7 columns):\n",
      " #   Column              Non-Null Count  Dtype \n",
      "---  ------              --------------  ----- \n",
      " 0   Course Name         3522 non-null   object\n",
      " 1   University          3522 non-null   object\n",
      " 2   Difficulty Level    3522 non-null   object\n",
      " 3   Course Rating       3522 non-null   object\n",
      " 4   Course URL          3522 non-null   object\n",
      " 5   Course Description  3522 non-null   object\n",
      " 6   Skills              3522 non-null   object\n",
      "dtypes: object(7)\n",
      "memory usage: 192.7+ KB\n"
     ]
    }
   ],
   "source": [
    "data.info()"
   ]
  },
  {
   "cell_type": "code",
   "execution_count": 6,
   "id": "5081991f",
   "metadata": {
    "execution": {
     "iopub.execute_input": "2025-01-26T12:19:37.662967Z",
     "iopub.status.busy": "2025-01-26T12:19:37.662492Z",
     "iopub.status.idle": "2025-01-26T12:19:37.671797Z",
     "shell.execute_reply": "2025-01-26T12:19:37.670711Z"
    },
    "papermill": {
     "duration": 0.018462,
     "end_time": "2025-01-26T12:19:37.673595",
     "exception": false,
     "start_time": "2025-01-26T12:19:37.655133",
     "status": "completed"
    },
    "tags": []
   },
   "outputs": [
    {
     "data": {
      "text/plain": [
       "Course Name           0\n",
       "University            0\n",
       "Difficulty Level      0\n",
       "Course Rating         0\n",
       "Course URL            0\n",
       "Course Description    0\n",
       "Skills                0\n",
       "dtype: int64"
      ]
     },
     "execution_count": 6,
     "metadata": {},
     "output_type": "execute_result"
    }
   ],
   "source": [
    "data.isnull().sum()"
   ]
  },
  {
   "cell_type": "code",
   "execution_count": 7,
   "id": "405c45b8",
   "metadata": {
    "execution": {
     "iopub.execute_input": "2025-01-26T12:19:37.688503Z",
     "iopub.status.busy": "2025-01-26T12:19:37.688132Z",
     "iopub.status.idle": "2025-01-26T12:19:37.717601Z",
     "shell.execute_reply": "2025-01-26T12:19:37.716576Z"
    },
    "papermill": {
     "duration": 0.038836,
     "end_time": "2025-01-26T12:19:37.719342",
     "exception": false,
     "start_time": "2025-01-26T12:19:37.680506",
     "status": "completed"
    },
    "scrolled": true,
    "tags": []
   },
   "outputs": [
    {
     "data": {
      "text/plain": [
       "Course Name           3416\n",
       "University             184\n",
       "Difficulty Level         5\n",
       "Course Rating           31\n",
       "Course URL            3424\n",
       "Course Description    3397\n",
       "Skills                3424\n",
       "dtype: int64"
      ]
     },
     "execution_count": 7,
     "metadata": {},
     "output_type": "execute_result"
    }
   ],
   "source": [
    "data.nunique()"
   ]
  },
  {
   "cell_type": "code",
   "execution_count": 8,
   "id": "e0ebb84f",
   "metadata": {
    "execution": {
     "iopub.execute_input": "2025-01-26T12:19:37.734470Z",
     "iopub.status.busy": "2025-01-26T12:19:37.734127Z",
     "iopub.status.idle": "2025-01-26T12:19:37.755762Z",
     "shell.execute_reply": "2025-01-26T12:19:37.754728Z"
    },
    "papermill": {
     "duration": 0.031348,
     "end_time": "2025-01-26T12:19:37.757673",
     "exception": false,
     "start_time": "2025-01-26T12:19:37.726325",
     "status": "completed"
    },
    "tags": []
   },
   "outputs": [
    {
     "data": {
      "text/plain": [
       "98"
      ]
     },
     "execution_count": 8,
     "metadata": {},
     "output_type": "execute_result"
    }
   ],
   "source": [
    "data.duplicated().sum()"
   ]
  },
  {
   "cell_type": "code",
   "execution_count": 9,
   "id": "7c6fe05c",
   "metadata": {
    "execution": {
     "iopub.execute_input": "2025-01-26T12:19:37.772910Z",
     "iopub.status.busy": "2025-01-26T12:19:37.772489Z",
     "iopub.status.idle": "2025-01-26T12:19:37.794141Z",
     "shell.execute_reply": "2025-01-26T12:19:37.793042Z"
    },
    "papermill": {
     "duration": 0.031347,
     "end_time": "2025-01-26T12:19:37.796134",
     "exception": false,
     "start_time": "2025-01-26T12:19:37.764787",
     "status": "completed"
    },
    "tags": []
   },
   "outputs": [
    {
     "data": {
      "text/plain": [
       "(3424, 7)"
      ]
     },
     "execution_count": 9,
     "metadata": {},
     "output_type": "execute_result"
    }
   ],
   "source": [
    "# Remove duplicates based on specific columns\n",
    "data = data.drop_duplicates(subset=['Course Name', 'University', 'Difficulty Level', 'Course Rating',\n",
    "       'Course URL', 'Course Description'])\n",
    "data.shape"
   ]
  },
  {
   "cell_type": "markdown",
   "id": "f086c467",
   "metadata": {
    "papermill": {
     "duration": 0.006702,
     "end_time": "2025-01-26T12:19:37.810010",
     "exception": false,
     "start_time": "2025-01-26T12:19:37.803308",
     "status": "completed"
    },
    "tags": []
   },
   "source": [
    "<div style=\"background-color: #A6CEE3; padding: 10px 20px; border-radius: 10px; box-shadow: 0 4px 8px rgba(0, 0, 0, 0.2);\">\n",
    "  <!-- Centered Title with Larger Vertical Bar -->\n",
    "  <div style=\"font-family: 'Cinzel', serif; font-size: 30px; font-weight: bold; color: #ffffff; text-align: left; letter-spacing: 1px;\">\n",
    "    <span style=\"font-size: 50px; margin-right: 15px;\">|</span> Text Preprocessing on Training Data\n",
    "  </div>\n",
    "</div>\n",
    "\n"
   ]
  },
  {
   "cell_type": "code",
   "execution_count": 10,
   "id": "9252309a",
   "metadata": {
    "execution": {
     "iopub.execute_input": "2025-01-26T12:19:37.825185Z",
     "iopub.status.busy": "2025-01-26T12:19:37.824776Z",
     "iopub.status.idle": "2025-01-26T12:19:38.666444Z",
     "shell.execute_reply": "2025-01-26T12:19:38.664460Z"
    },
    "papermill": {
     "duration": 0.851911,
     "end_time": "2025-01-26T12:19:38.668779",
     "exception": false,
     "start_time": "2025-01-26T12:19:37.816868",
     "status": "completed"
    },
    "tags": []
   },
   "outputs": [
    {
     "name": "stdout",
     "output_type": "stream",
     "text": [
      "[nltk_data] Downloading package omw-1.4 to /usr/share/nltk_data...\n",
      "[nltk_data] Downloading package wordnet to /usr/share/nltk_data...\n",
      "[nltk_data]   Package wordnet is already up-to-date!\n",
      "[nltk_data] Downloading package wordnet2022 to /usr/share/nltk_data...\n",
      "[nltk_data]   Unzipping corpora/wordnet2022.zip.\n"
     ]
    }
   ],
   "source": [
    "import nltk\n",
    "nltk.download('omw-1.4')\n",
    "nltk.download('wordnet')\n",
    "nltk.download('wordnet2022')\n",
    "\n",
    "! cp -rf /usr/share/nltk_data/corpora/wordnet2022 /usr/share/nltk_data/corpora/wordnet # temp fix for lookup error."
   ]
  },
  {
   "cell_type": "code",
   "execution_count": 11,
   "id": "eb229400",
   "metadata": {
    "execution": {
     "iopub.execute_input": "2025-01-26T12:19:38.685010Z",
     "iopub.status.busy": "2025-01-26T12:19:38.684566Z",
     "iopub.status.idle": "2025-01-26T12:19:43.006857Z",
     "shell.execute_reply": "2025-01-26T12:19:43.005687Z"
    },
    "papermill": {
     "duration": 4.332617,
     "end_time": "2025-01-26T12:19:43.008866",
     "exception": false,
     "start_time": "2025-01-26T12:19:38.676249",
     "status": "completed"
    },
    "tags": []
   },
   "outputs": [],
   "source": [
    "lemmatizer = WordNetLemmatizer()\n",
    "\n",
    "# Function for text cleaning (removing special characters, stopwords, and lemmatization)\n",
    "def clean_for_tags(text):\n",
    "    text = re.sub(r'��+', '', text)  # This removes \"��\" or any repeated \"��\" characters\n",
    "    text = re.sub(r'[^\\x00-\\x7F]+', '', text)  # Removes non-ASCII characters\n",
    "    text = re.sub(r'[^a-zA-Z\\s]', '', text)  # Remove anything that is not a letter or space\n",
    "    text = text.lower()  # Convert text to lowercase\n",
    "    text = ' '.join([lemmatizer.lemmatize(word) for word in text.split()])  # Lemmatization\n",
    "    return text\n",
    "\n",
    "training_data = data.copy()\n",
    "\n",
    "# Apply clean_for_tags on columns to be used in tags column\n",
    "training_data['Course Name'] = training_data['Course Name'].apply(clean_for_tags)\n",
    "training_data['Course Description'] = training_data['Course Description'].apply(clean_for_tags)\n",
    "training_data['Skills'] = training_data['Skills'].apply(clean_for_tags)\n",
    "\n",
    "# Combine 'Course Name', 'Course Description', and 'Skills' into 'tags'\n",
    "data['tags'] = training_data['Course Name'] + ' ' + training_data['Course Description'] + ' ' + training_data['Skills']\n",
    "\n",
    "training_data = data[['Course Name', 'tags']]"
   ]
  },
  {
   "cell_type": "code",
   "execution_count": 12,
   "id": "0086da9a",
   "metadata": {
    "execution": {
     "iopub.execute_input": "2025-01-26T12:19:43.026076Z",
     "iopub.status.busy": "2025-01-26T12:19:43.025599Z",
     "iopub.status.idle": "2025-01-26T12:19:43.035485Z",
     "shell.execute_reply": "2025-01-26T12:19:43.034318Z"
    },
    "papermill": {
     "duration": 0.020313,
     "end_time": "2025-01-26T12:19:43.037248",
     "exception": false,
     "start_time": "2025-01-26T12:19:43.016935",
     "status": "completed"
    },
    "tags": []
   },
   "outputs": [
    {
     "data": {
      "text/html": [
       "<div>\n",
       "<style scoped>\n",
       "    .dataframe tbody tr th:only-of-type {\n",
       "        vertical-align: middle;\n",
       "    }\n",
       "\n",
       "    .dataframe tbody tr th {\n",
       "        vertical-align: top;\n",
       "    }\n",
       "\n",
       "    .dataframe thead th {\n",
       "        text-align: right;\n",
       "    }\n",
       "</style>\n",
       "<table border=\"1\" class=\"dataframe\">\n",
       "  <thead>\n",
       "    <tr style=\"text-align: right;\">\n",
       "      <th></th>\n",
       "      <th>Course Name</th>\n",
       "      <th>tags</th>\n",
       "    </tr>\n",
       "  </thead>\n",
       "  <tbody>\n",
       "    <tr>\n",
       "      <th>0</th>\n",
       "      <td>Write A Feature Length Screenplay For Film Or ...</td>\n",
       "      <td>write a feature length screenplay for film or ...</td>\n",
       "    </tr>\n",
       "    <tr>\n",
       "      <th>1</th>\n",
       "      <td>Business Strategy: Business Model Canvas Analy...</td>\n",
       "      <td>business strategy business model canvas analys...</td>\n",
       "    </tr>\n",
       "    <tr>\n",
       "      <th>2</th>\n",
       "      <td>Silicon Thin Film Solar Cells</td>\n",
       "      <td>silicon thin film solar cell this course consi...</td>\n",
       "    </tr>\n",
       "    <tr>\n",
       "      <th>3</th>\n",
       "      <td>Finance for Managers</td>\n",
       "      <td>finance for manager when it come to number the...</td>\n",
       "    </tr>\n",
       "    <tr>\n",
       "      <th>4</th>\n",
       "      <td>Retrieve Data using Single-Table SQL Queries</td>\n",
       "      <td>retrieve data using singletable sql query in t...</td>\n",
       "    </tr>\n",
       "  </tbody>\n",
       "</table>\n",
       "</div>"
      ],
      "text/plain": [
       "                                         Course Name  \\\n",
       "0  Write A Feature Length Screenplay For Film Or ...   \n",
       "1  Business Strategy: Business Model Canvas Analy...   \n",
       "2                      Silicon Thin Film Solar Cells   \n",
       "3                               Finance for Managers   \n",
       "4       Retrieve Data using Single-Table SQL Queries   \n",
       "\n",
       "                                                tags  \n",
       "0  write a feature length screenplay for film or ...  \n",
       "1  business strategy business model canvas analys...  \n",
       "2  silicon thin film solar cell this course consi...  \n",
       "3  finance for manager when it come to number the...  \n",
       "4  retrieve data using singletable sql query in t...  "
      ]
     },
     "execution_count": 12,
     "metadata": {},
     "output_type": "execute_result"
    }
   ],
   "source": [
    "training_data.head()"
   ]
  },
  {
   "cell_type": "markdown",
   "id": "f1ea0e47",
   "metadata": {
    "papermill": {
     "duration": 0.006812,
     "end_time": "2025-01-26T12:19:43.051737",
     "exception": false,
     "start_time": "2025-01-26T12:19:43.044925",
     "status": "completed"
    },
    "tags": []
   },
   "source": [
    "<div style=\"background-color: #A6CEE3; padding: 10px 20px; border-radius: 10px; box-shadow: 0 4px 8px rgba(0, 0, 0, 0.2);\">\n",
    "  <!-- Centered Title with Larger Vertical Bar -->\n",
    "  <div style=\"font-family: 'Cinzel', serif; font-size: 30px; font-weight: bold; color: #ffffff; text-align: left; letter-spacing: 1px;\">\n",
    "    <span style=\"font-size: 50px; margin-right: 15px;\">|</span> Text Vectorization (TF-IDF)\n",
    "  </div>\n",
    "</div>\n",
    "\n"
   ]
  },
  {
   "cell_type": "code",
   "execution_count": 13,
   "id": "8b8a0dd0",
   "metadata": {
    "execution": {
     "iopub.execute_input": "2025-01-26T12:19:43.067820Z",
     "iopub.status.busy": "2025-01-26T12:19:43.067451Z",
     "iopub.status.idle": "2025-01-26T12:19:43.622174Z",
     "shell.execute_reply": "2025-01-26T12:19:43.620751Z"
    },
    "papermill": {
     "duration": 0.565277,
     "end_time": "2025-01-26T12:19:43.624203",
     "exception": false,
     "start_time": "2025-01-26T12:19:43.058926",
     "status": "completed"
    },
    "tags": []
   },
   "outputs": [
    {
     "name": "stdout",
     "output_type": "stream",
     "text": [
      "TF-IDF matrix shape: (3424, 5000)\n"
     ]
    }
   ],
   "source": [
    "vectorizer = TfidfVectorizer(stop_words='english', max_features=5000)\n",
    "tfidf_matrix = vectorizer.fit_transform(training_data['tags'])\n",
    "print(\"TF-IDF matrix shape:\", tfidf_matrix.shape)"
   ]
  },
  {
   "cell_type": "markdown",
   "id": "896a8be2",
   "metadata": {
    "papermill": {
     "duration": 0.007039,
     "end_time": "2025-01-26T12:19:43.638989",
     "exception": false,
     "start_time": "2025-01-26T12:19:43.631950",
     "status": "completed"
    },
    "tags": []
   },
   "source": [
    "<div style=\"background-color: #A6CEE3; padding: 10px 20px; border-radius: 10px; box-shadow: 0 4px 8px rgba(0, 0, 0, 0.2);\">\n",
    "  <!-- Centered Title with Larger Vertical Bar -->\n",
    "  <div style=\"font-family: 'Cinzel', serif; font-size: 30px; font-weight: bold; color: #ffffff; text-align: left; letter-spacing: 1px;\">\n",
    "    <span style=\"font-size: 50px; margin-right: 15px;\">|</span> Apply SVD on TF-IDF\n",
    "  </div>\n",
    "</div>\n",
    "\n"
   ]
  },
  {
   "cell_type": "code",
   "execution_count": 14,
   "id": "36956ac5",
   "metadata": {
    "execution": {
     "iopub.execute_input": "2025-01-26T12:19:43.654506Z",
     "iopub.status.busy": "2025-01-26T12:19:43.654170Z",
     "iopub.status.idle": "2025-01-26T12:19:44.185602Z",
     "shell.execute_reply": "2025-01-26T12:19:44.184556Z"
    },
    "papermill": {
     "duration": 0.541124,
     "end_time": "2025-01-26T12:19:44.187256",
     "exception": false,
     "start_time": "2025-01-26T12:19:43.646132",
     "status": "completed"
    },
    "tags": []
   },
   "outputs": [
    {
     "name": "stdout",
     "output_type": "stream",
     "text": [
      "Reduced TF-IDF matrix shape: (3424, 100)\n"
     ]
    }
   ],
   "source": [
    "n_components = 100 # Reduce to 100 dimensions\n",
    "svd = TruncatedSVD(n_components=n_components, random_state=42)\n",
    "tfidf_matrix = svd.fit_transform(tfidf_matrix)\n",
    "\n",
    "print(\"Reduced TF-IDF matrix shape:\", tfidf_matrix.shape)\n"
   ]
  },
  {
   "cell_type": "markdown",
   "id": "3c0a53d7",
   "metadata": {
    "papermill": {
     "duration": 0.006881,
     "end_time": "2025-01-26T12:19:44.201597",
     "exception": false,
     "start_time": "2025-01-26T12:19:44.194716",
     "status": "completed"
    },
    "tags": []
   },
   "source": [
    "<div style=\"background-color: #A6CEE3; padding: 10px 20px; border-radius: 10px; box-shadow: 0 4px 8px rgba(0, 0, 0, 0.2);\">\n",
    "  <!-- Centered Title with Larger Vertical Bar -->\n",
    "  <div style=\"font-family: 'Cinzel', serif; font-size: 30px; font-weight: bold; color: #ffffff; text-align: left; letter-spacing: 1px;\">\n",
    "    <span style=\"font-size: 50px; margin-right: 15px;\">|</span> Cosine Similarity and Recommendations\n",
    "  </div>\n",
    "</div>\n",
    "\n"
   ]
  },
  {
   "cell_type": "code",
   "execution_count": 15,
   "id": "ae0ef77e",
   "metadata": {
    "execution": {
     "iopub.execute_input": "2025-01-26T12:19:44.217431Z",
     "iopub.status.busy": "2025-01-26T12:19:44.217095Z",
     "iopub.status.idle": "2025-01-26T12:19:44.299935Z",
     "shell.execute_reply": "2025-01-26T12:19:44.298718Z"
    },
    "papermill": {
     "duration": 0.093083,
     "end_time": "2025-01-26T12:19:44.301865",
     "exception": false,
     "start_time": "2025-01-26T12:19:44.208782",
     "status": "completed"
    },
    "scrolled": true,
    "tags": []
   },
   "outputs": [
    {
     "name": "stdout",
     "output_type": "stream",
     "text": [
      "0.02311163293204528\n"
     ]
    }
   ],
   "source": [
    "similarity_matrix = cosine_similarity(tfidf_matrix)\n",
    "print(similarity_matrix[0][1])"
   ]
  },
  {
   "cell_type": "markdown",
   "id": "431dea86",
   "metadata": {
    "papermill": {
     "duration": 0.007233,
     "end_time": "2025-01-26T12:19:44.316691",
     "exception": false,
     "start_time": "2025-01-26T12:19:44.309458",
     "status": "completed"
    },
    "tags": []
   },
   "source": [
    "<div style=\"background-color: #A6CEE3; padding: 10px 20px; border-radius: 10px; box-shadow: 0 4px 8px rgba(0, 0, 0, 0.2);\">\n",
    "  <!-- Centered Title with Larger Vertical Bar -->\n",
    "  <div style=\"font-family: 'Cinzel', serif; font-size: 30px; font-weight: bold; color: #ffffff; text-align: left; letter-spacing: 1px;\">\n",
    "    <span style=\"font-size: 50px; margin-right: 15px;\">|</span> Functions for Recommendation\n",
    "  </div>\n",
    "</div>\n",
    "\n"
   ]
  },
  {
   "cell_type": "code",
   "execution_count": 16,
   "id": "c1777e5f",
   "metadata": {
    "execution": {
     "iopub.execute_input": "2025-01-26T12:19:44.332918Z",
     "iopub.status.busy": "2025-01-26T12:19:44.332520Z",
     "iopub.status.idle": "2025-01-26T12:19:44.337473Z",
     "shell.execute_reply": "2025-01-26T12:19:44.336419Z"
    },
    "papermill": {
     "duration": 0.014922,
     "end_time": "2025-01-26T12:19:44.339075",
     "exception": false,
     "start_time": "2025-01-26T12:19:44.324153",
     "status": "completed"
    },
    "tags": []
   },
   "outputs": [],
   "source": [
    "def normalize_rating(rating_str):\n",
    "    \"\"\"\n",
    "    Normalize the course rating to a 0-1 scale.\n",
    "    \"\"\"\n",
    "    try:\n",
    "        return (float(rating_str) - 0) / (5 - 0)  # Normalize to 0-1\n",
    "    except ValueError:\n",
    "        return 0  "
   ]
  },
  {
   "cell_type": "code",
   "execution_count": 17,
   "id": "00067d2e",
   "metadata": {
    "execution": {
     "iopub.execute_input": "2025-01-26T12:19:44.355243Z",
     "iopub.status.busy": "2025-01-26T12:19:44.354893Z",
     "iopub.status.idle": "2025-01-26T12:19:44.362354Z",
     "shell.execute_reply": "2025-01-26T12:19:44.361083Z"
    },
    "papermill": {
     "duration": 0.01768,
     "end_time": "2025-01-26T12:19:44.364169",
     "exception": false,
     "start_time": "2025-01-26T12:19:44.346489",
     "status": "completed"
    },
    "tags": []
   },
   "outputs": [],
   "source": [
    "def get_recommendations(course_name, data, similarity_matrix, top_n=3, rating_weight=0.05):\n",
    "    \"\"\"\n",
    "    Get top N course recommendations based on similarity to the given course name.\n",
    "    \"\"\"\n",
    "    course_name = data[data['Course Name'] == course_name]  # Filter data for selected course\n",
    "    course_idx = course_name.index[0]  # Get the index of the selected course\n",
    "    similarity_scores = list(enumerate(similarity_matrix[course_idx]))  # Get similarity scores for all courses\n",
    "    \n",
    "    recommendations = []\n",
    "    for idx, similarity_score in sorted(similarity_scores, key=lambda x: x[1], reverse=True)[:top_n]:\n",
    "        course_data = data.iloc[idx]  # Get course data for the current recommendation\n",
    "        normalized_rating = normalize_rating(course_data.get('Course Rating', '0'))  # Normalize rating\n",
    "\n",
    "        # Prepare recommendation dictionary with relevant course information\n",
    "        recommendations.append({\n",
    "            \"course_name\": course_data['Course Name'],\n",
    "            \"course_url\": course_data.get('Course URL', ''),\n",
    "            \"rating\": course_data['Course Rating'],\n",
    "            \"institution\": course_data.get('University', 'Unknown'),\n",
    "            \"difficulty_level\": course_data.get('Difficulty Level', 'Unknown'),\n",
    "            \"similarity\": similarity_score,\n",
    "            \"final_score\": similarity_score * (1 - rating_weight) + normalized_rating * rating_weight \n",
    "        })\n",
    "\n",
    "    return sorted(recommendations, key=lambda x: x['final_score'], reverse=True)"
   ]
  },
  {
   "cell_type": "code",
   "execution_count": 18,
   "id": "708f7a40",
   "metadata": {
    "execution": {
     "iopub.execute_input": "2025-01-26T12:19:44.380487Z",
     "iopub.status.busy": "2025-01-26T12:19:44.380135Z",
     "iopub.status.idle": "2025-01-26T12:19:44.390490Z",
     "shell.execute_reply": "2025-01-26T12:19:44.389460Z"
    },
    "papermill": {
     "duration": 0.020248,
     "end_time": "2025-01-26T12:19:44.392025",
     "exception": false,
     "start_time": "2025-01-26T12:19:44.371777",
     "status": "completed"
    },
    "tags": []
   },
   "outputs": [
    {
     "data": {
      "text/plain": [
       "[{'course_name': 'Finance for Managers',\n",
       "  'course_url': 'https://www.coursera.org/learn/operational-finance',\n",
       "  'rating': '4.8',\n",
       "  'institution': 'IESE Business School',\n",
       "  'difficulty_level': 'Intermediate',\n",
       "  'similarity': 1.0000000000000004,\n",
       "  'final_score': 0.9980000000000004},\n",
       " {'course_name': 'Finance for Non-Financial Professionals',\n",
       "  'course_url': 'https://www.coursera.org/learn/finance-for-non-finance-managers',\n",
       "  'rating': '4.5',\n",
       "  'institution': 'University of California, Irvine',\n",
       "  'difficulty_level': 'Conversant',\n",
       "  'similarity': 0.833306939311862,\n",
       "  'final_score': 0.8366415923462689},\n",
       " {'course_name': 'Finance for Non-Financial Managers',\n",
       "  'course_url': 'https://www.coursera.org/learn/finance-for-non-financial-managers',\n",
       "  'rating': '4.2',\n",
       "  'institution': 'Emory University',\n",
       "  'difficulty_level': 'Beginner',\n",
       "  'similarity': 0.8315951404609806,\n",
       "  'final_score': 0.8320153834379316}]"
      ]
     },
     "execution_count": 18,
     "metadata": {},
     "output_type": "execute_result"
    }
   ],
   "source": [
    "get_recommendations('Finance for Managers', data, similarity_matrix)"
   ]
  },
  {
   "cell_type": "markdown",
   "id": "381e039a",
   "metadata": {
    "papermill": {
     "duration": 0.007172,
     "end_time": "2025-01-26T12:19:44.406982",
     "exception": false,
     "start_time": "2025-01-26T12:19:44.399810",
     "status": "completed"
    },
    "tags": []
   },
   "source": [
    "<div style=\"background-color: #A6CEE3; padding: 10px 20px; border-radius: 10px; box-shadow: 0 4px 8px rgba(0, 0, 0, 0.2);\">\n",
    "  <!-- Centered Title with Larger Vertical Bar -->\n",
    "  <div style=\"font-family: 'Cinzel', serif; font-size: 30px; font-weight: bold; color: #ffffff; text-align: left; letter-spacing: 1px;\">\n",
    "    <span style=\"font-size: 50px; margin-right: 15px;\">|</span> Save the Model\n",
    "  </div>\n",
    "</div>\n",
    "\n"
   ]
  },
  {
   "cell_type": "code",
   "execution_count": 19,
   "id": "b85745ff",
   "metadata": {
    "execution": {
     "iopub.execute_input": "2025-01-26T12:19:44.423651Z",
     "iopub.status.busy": "2025-01-26T12:19:44.423279Z",
     "iopub.status.idle": "2025-01-26T12:19:44.607209Z",
     "shell.execute_reply": "2025-01-26T12:19:44.606006Z"
    },
    "papermill": {
     "duration": 0.194881,
     "end_time": "2025-01-26T12:19:44.609248",
     "exception": false,
     "start_time": "2025-01-26T12:19:44.414367",
     "status": "completed"
    },
    "tags": []
   },
   "outputs": [],
   "source": [
    "pickle.dump(similarity_matrix, open('similarity_matrix.pkl', 'wb'))"
   ]
  },
  {
   "cell_type": "markdown",
   "id": "3446943a",
   "metadata": {
    "execution": {
     "iopub.execute_input": "2025-01-25T20:33:04.637733Z",
     "iopub.status.busy": "2025-01-25T20:33:04.637380Z",
     "iopub.status.idle": "2025-01-25T20:33:04.644873Z",
     "shell.execute_reply": "2025-01-25T20:33:04.643392Z",
     "shell.execute_reply.started": "2025-01-25T20:33:04.637708Z"
    },
    "papermill": {
     "duration": 0.0073,
     "end_time": "2025-01-26T12:19:44.624451",
     "exception": false,
     "start_time": "2025-01-26T12:19:44.617151",
     "status": "completed"
    },
    "tags": []
   },
   "source": [
    "<div style=\"background-color: #D16C6C; padding: 20px; border-radius: 10px; text-align: center; font-family: Arial, sans-serif; box-shadow: 0 4px 8px rgba(0, 0, 0, 0.1);\"> <h2 style=\"font-family: 'Cinzel', serif; font-size: 24px; font-weight: bold; color: #ffffff; text-align: center;\">Thank You for Your Attention! 😊</h2> <p style=\"font-family: 'Cinzel', serif; font-size: 18px; color: #ffffff; margin-bottom: 20px; text-align: center;\">Please give a 👍 if you liked it!</p> </div> "
   ]
  }
 ],
 "metadata": {
  "kaggle": {
   "accelerator": "none",
   "dataSources": [
    {
     "datasetId": 1864990,
     "sourceId": 3045510,
     "sourceType": "datasetVersion"
    }
   ],
   "dockerImageVersionId": 30839,
   "isGpuEnabled": false,
   "isInternetEnabled": true,
   "language": "python",
   "sourceType": "notebook"
  },
  "kernelspec": {
   "display_name": "Python 3",
   "language": "python",
   "name": "python3"
  },
  "language_info": {
   "codemirror_mode": {
    "name": "ipython",
    "version": 3
   },
   "file_extension": ".py",
   "mimetype": "text/x-python",
   "name": "python",
   "nbconvert_exporter": "python",
   "pygments_lexer": "ipython3",
   "version": "3.10.12"
  },
  "papermill": {
   "default_parameters": {},
   "duration": 14.746271,
   "end_time": "2025-01-26T12:19:45.653814",
   "environment_variables": {},
   "exception": null,
   "input_path": "__notebook__.ipynb",
   "output_path": "__notebook__.ipynb",
   "parameters": {},
   "start_time": "2025-01-26T12:19:30.907543",
   "version": "2.6.0"
  }
 },
 "nbformat": 4,
 "nbformat_minor": 5
}
