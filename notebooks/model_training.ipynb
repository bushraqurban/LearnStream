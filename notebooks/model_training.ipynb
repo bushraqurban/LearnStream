{
 "cells": [
  {
   "cell_type": "markdown",
   "id": "c76eba78",
   "metadata": {},
   "source": [
    "<h1 style=\"color: #232ED1;\">📊 Course Recommender System on Web App</h1>\n",
    "\n"
   ]
  },
  {
   "cell_type": "markdown",
   "id": "94e56f93",
   "metadata": {},
   "source": [
    "<h2 style=\"color: #232ED1;\">Import Dependencies</h2>"
   ]
  },
  {
   "cell_type": "code",
   "execution_count": 1,
   "id": "afeb49d3",
   "metadata": {},
   "outputs": [
    {
     "name": "stdout",
     "output_type": "stream",
     "text": [
      "Dependencies Imported\n"
     ]
    },
    {
     "name": "stderr",
     "output_type": "stream",
     "text": [
      "[nltk_data] Downloading package wordnet to /Users/bushra/nltk_data...\n",
      "[nltk_data]   Package wordnet is already up-to-date!\n"
     ]
    }
   ],
   "source": [
    "# Import Dependencies\n",
    "\n",
    "import numpy as np\n",
    "import pandas as pd\n",
    "import matplotlib.pyplot as plt\n",
    "import seaborn as sns\n",
    "from sklearn.feature_extraction.text import TfidfVectorizer\n",
    "from sklearn.metrics.pairwise import cosine_similarity\n",
    "from nltk.stem import WordNetLemmatizer\n",
    "import pickle\n",
    "import nltk\n",
    "import re\n",
    "\n",
    "# Download wordnet once (if needed)\n",
    "try:\n",
    "    nltk.data.find('corpora/wordnet')\n",
    "except LookupError:\n",
    "    nltk.download('wordnet')\n",
    "\n",
    "print('Dependencies Imported')"
   ]
  },
  {
   "cell_type": "code",
   "execution_count": 2,
   "id": "9cfffeab",
   "metadata": {},
   "outputs": [
    {
     "name": "stdout",
     "output_type": "stream",
     "text": [
      "/Users/bushra/data-science/upwork/education-projects/03/course-recommendation-system/notebooks\n"
     ]
    }
   ],
   "source": [
    "import os\n",
    "current_directory = os.getcwd()\n",
    "print(current_directory)\n"
   ]
  },
  {
   "cell_type": "code",
   "execution_count": 3,
   "id": "8fafd9bc",
   "metadata": {
    "scrolled": false
   },
   "outputs": [
    {
     "name": "stdout",
     "output_type": "stream",
     "text": [
      "/Users/bushra/data-science/upwork/education-projects/03/course-recommendation-system\n"
     ]
    },
    {
     "name": "stderr",
     "output_type": "stream",
     "text": [
      "/Users/bushra/data-science/upwork/education-projects/03/course-recommendation-system/venv/lib/python3.11/site-packages/IPython/core/magics/osm.py:417: UserWarning: This is now an optional IPython functionality, setting dhist requires you to install the `pickleshare` library.\n",
      "  self.shell.db['dhist'] = compress_dhist(dhist)[-100:]\n"
     ]
    }
   ],
   "source": [
    "%cd .."
   ]
  },
  {
   "cell_type": "markdown",
   "id": "2b7a46c9",
   "metadata": {},
   "source": [
    "<h2 style=\"color: #232ED1;\">Load Dataset</h2>"
   ]
  },
  {
   "cell_type": "code",
   "execution_count": 4,
   "id": "046017bb",
   "metadata": {},
   "outputs": [],
   "source": [
    "import pandas as pd\n",
    "\n",
    "# Function to load CSV data\n",
    "def load_data(file_path):\n",
    "    try:\n",
    "        data = pd.read_csv(file_path, encoding='utf-8')\n",
    "        return data\n",
    "    except FileNotFoundError:\n",
    "        print(f\"File {file_path} not found.\")\n",
    "        return None\n",
    "\n",
    "# Loading the data from a local file\n",
    "data = load_data(\"../course-recommendation-system/data/coursera.csv\")\n"
   ]
  },
  {
   "cell_type": "code",
   "execution_count": 5,
   "id": "5fd1ffb0",
   "metadata": {},
   "outputs": [
    {
     "data": {
      "text/html": [
       "<div>\n",
       "<style scoped>\n",
       "    .dataframe tbody tr th:only-of-type {\n",
       "        vertical-align: middle;\n",
       "    }\n",
       "\n",
       "    .dataframe tbody tr th {\n",
       "        vertical-align: top;\n",
       "    }\n",
       "\n",
       "    .dataframe thead th {\n",
       "        text-align: right;\n",
       "    }\n",
       "</style>\n",
       "<table border=\"1\" class=\"dataframe\">\n",
       "  <thead>\n",
       "    <tr style=\"text-align: right;\">\n",
       "      <th></th>\n",
       "      <th>Course Name</th>\n",
       "      <th>University</th>\n",
       "      <th>Difficulty Level</th>\n",
       "      <th>Course Rating</th>\n",
       "      <th>Course URL</th>\n",
       "      <th>Course Description</th>\n",
       "      <th>Skills</th>\n",
       "    </tr>\n",
       "  </thead>\n",
       "  <tbody>\n",
       "    <tr>\n",
       "      <th>0</th>\n",
       "      <td>Write A Feature Length Screenplay For Film Or ...</td>\n",
       "      <td>Michigan State University</td>\n",
       "      <td>Beginner</td>\n",
       "      <td>4.8</td>\n",
       "      <td>https://www.coursera.org/learn/write-a-feature...</td>\n",
       "      <td>Write a Full Length Feature Film Script  In th...</td>\n",
       "      <td>Drama  Comedy  peering  screenwriting  film  D...</td>\n",
       "    </tr>\n",
       "    <tr>\n",
       "      <th>1</th>\n",
       "      <td>Business Strategy: Business Model Canvas Analy...</td>\n",
       "      <td>Coursera Project Network</td>\n",
       "      <td>Beginner</td>\n",
       "      <td>4.8</td>\n",
       "      <td>https://www.coursera.org/learn/canvas-analysis...</td>\n",
       "      <td>By the end of this guided project, you will be...</td>\n",
       "      <td>Finance  business plan  persona (user experien...</td>\n",
       "    </tr>\n",
       "    <tr>\n",
       "      <th>2</th>\n",
       "      <td>Silicon Thin Film Solar Cells</td>\n",
       "      <td>�cole Polytechnique</td>\n",
       "      <td>Advanced</td>\n",
       "      <td>4.1</td>\n",
       "      <td>https://www.coursera.org/learn/silicon-thin-fi...</td>\n",
       "      <td>This course consists of a general presentation...</td>\n",
       "      <td>chemistry  physics  Solar Energy  film  lambda...</td>\n",
       "    </tr>\n",
       "    <tr>\n",
       "      <th>3</th>\n",
       "      <td>Finance for Managers</td>\n",
       "      <td>IESE Business School</td>\n",
       "      <td>Intermediate</td>\n",
       "      <td>4.8</td>\n",
       "      <td>https://www.coursera.org/learn/operational-fin...</td>\n",
       "      <td>When it comes to numbers, there is always more...</td>\n",
       "      <td>accounts receivable  dupont analysis  analysis...</td>\n",
       "    </tr>\n",
       "    <tr>\n",
       "      <th>4</th>\n",
       "      <td>Retrieve Data using Single-Table SQL Queries</td>\n",
       "      <td>Coursera Project Network</td>\n",
       "      <td>Beginner</td>\n",
       "      <td>4.6</td>\n",
       "      <td>https://www.coursera.org/learn/single-table-sq...</td>\n",
       "      <td>In this course you�ll learn how to effectively...</td>\n",
       "      <td>Data Analysis  select (sql)  database manageme...</td>\n",
       "    </tr>\n",
       "  </tbody>\n",
       "</table>\n",
       "</div>"
      ],
      "text/plain": [
       "                                         Course Name  \\\n",
       "0  Write A Feature Length Screenplay For Film Or ...   \n",
       "1  Business Strategy: Business Model Canvas Analy...   \n",
       "2                      Silicon Thin Film Solar Cells   \n",
       "3                               Finance for Managers   \n",
       "4       Retrieve Data using Single-Table SQL Queries   \n",
       "\n",
       "                  University Difficulty Level Course Rating  \\\n",
       "0  Michigan State University         Beginner           4.8   \n",
       "1   Coursera Project Network         Beginner           4.8   \n",
       "2        �cole Polytechnique         Advanced           4.1   \n",
       "3       IESE Business School     Intermediate           4.8   \n",
       "4   Coursera Project Network         Beginner           4.6   \n",
       "\n",
       "                                          Course URL  \\\n",
       "0  https://www.coursera.org/learn/write-a-feature...   \n",
       "1  https://www.coursera.org/learn/canvas-analysis...   \n",
       "2  https://www.coursera.org/learn/silicon-thin-fi...   \n",
       "3  https://www.coursera.org/learn/operational-fin...   \n",
       "4  https://www.coursera.org/learn/single-table-sq...   \n",
       "\n",
       "                                  Course Description  \\\n",
       "0  Write a Full Length Feature Film Script  In th...   \n",
       "1  By the end of this guided project, you will be...   \n",
       "2  This course consists of a general presentation...   \n",
       "3  When it comes to numbers, there is always more...   \n",
       "4  In this course you�ll learn how to effectively...   \n",
       "\n",
       "                                              Skills  \n",
       "0  Drama  Comedy  peering  screenwriting  film  D...  \n",
       "1  Finance  business plan  persona (user experien...  \n",
       "2  chemistry  physics  Solar Energy  film  lambda...  \n",
       "3  accounts receivable  dupont analysis  analysis...  \n",
       "4  Data Analysis  select (sql)  database manageme...  "
      ]
     },
     "execution_count": 5,
     "metadata": {},
     "output_type": "execute_result"
    }
   ],
   "source": [
    "data.head()"
   ]
  },
  {
   "cell_type": "markdown",
   "id": "c30c8dec",
   "metadata": {},
   "source": [
    "<h2 style=\"color: #232ED1;\">Basic Data Inspection</h2>"
   ]
  },
  {
   "cell_type": "code",
   "execution_count": 7,
   "id": "5cb80836",
   "metadata": {
    "scrolled": true
   },
   "outputs": [
    {
     "data": {
      "text/plain": [
       "(3522, 7)"
      ]
     },
     "execution_count": 7,
     "metadata": {},
     "output_type": "execute_result"
    }
   ],
   "source": [
    "# Display dataset shape (number of rows and columns)\n",
    "data.shape"
   ]
  },
  {
   "cell_type": "code",
   "execution_count": 8,
   "id": "95cde0c6",
   "metadata": {
    "scrolled": true
   },
   "outputs": [
    {
     "name": "stdout",
     "output_type": "stream",
     "text": [
      "<class 'pandas.core.frame.DataFrame'>\n",
      "RangeIndex: 3522 entries, 0 to 3521\n",
      "Data columns (total 7 columns):\n",
      " #   Column              Non-Null Count  Dtype \n",
      "---  ------              --------------  ----- \n",
      " 0   Course Name         3522 non-null   object\n",
      " 1   University          3522 non-null   object\n",
      " 2   Difficulty Level    3522 non-null   object\n",
      " 3   Course Rating       3522 non-null   object\n",
      " 4   Course URL          3522 non-null   object\n",
      " 5   Course Description  3522 non-null   object\n",
      " 6   Skills              3522 non-null   object\n",
      "dtypes: object(7)\n",
      "memory usage: 192.7+ KB\n"
     ]
    }
   ],
   "source": [
    "# Show summary of the dataset (information on column types and memory usage)\n",
    "data.info()"
   ]
  },
  {
   "cell_type": "code",
   "execution_count": 9,
   "id": "f08d2540",
   "metadata": {},
   "outputs": [
    {
     "name": "stdout",
     "output_type": "stream",
     "text": [
      "Course Name           0\n",
      "University            0\n",
      "Difficulty Level      0\n",
      "Course Rating         0\n",
      "Course URL            0\n",
      "Course Description    0\n",
      "Skills                0\n",
      "dtype: int64\n"
     ]
    }
   ],
   "source": [
    "# Check for missing values in each column\n",
    "print(data.isnull().sum())"
   ]
  },
  {
   "cell_type": "code",
   "execution_count": 10,
   "id": "01cab0bc",
   "metadata": {
    "scrolled": true
   },
   "outputs": [
    {
     "name": "stdout",
     "output_type": "stream",
     "text": [
      "Course Name           3416\n",
      "University             184\n",
      "Difficulty Level         5\n",
      "Course Rating           31\n",
      "Course URL            3424\n",
      "Course Description    3397\n",
      "Skills                3424\n",
      "dtype: int64\n"
     ]
    }
   ],
   "source": [
    "# Display the number of unique values for each column (useful to identify categorical variables)\n",
    "print(data.nunique())"
   ]
  },
  {
   "cell_type": "code",
   "execution_count": 11,
   "id": "6933f893",
   "metadata": {},
   "outputs": [
    {
     "data": {
      "text/plain": [
       "(3424, 7)"
      ]
     },
     "execution_count": 11,
     "metadata": {},
     "output_type": "execute_result"
    }
   ],
   "source": [
    "# Remove duplicates based on specific columns\n",
    "data = data.drop_duplicates(subset=['Course Name', 'University', 'Difficulty Level', 'Course Rating',\n",
    "       'Course URL', 'Course Description'])\n",
    "data.shape"
   ]
  },
  {
   "cell_type": "markdown",
   "id": "737a0b4d",
   "metadata": {},
   "source": [
    "<h2 style=\"color: #232ED1;\">Check the Distribution of Key Columns</h2>"
   ]
  },
  {
   "cell_type": "code",
   "execution_count": 12,
   "id": "4cb5938e",
   "metadata": {
    "scrolled": false
   },
   "outputs": [
    {
     "name": "stderr",
     "output_type": "stream",
     "text": [
      "/var/folders/fh/kyml8tjs61j6z54n3h59ptwh0000gn/T/ipykernel_11894/2219308396.py:14: FutureWarning: \n",
      "\n",
      "Passing `palette` without assigning `hue` is deprecated and will be removed in v0.14.0. Assign the `x` variable to `hue` and set `legend=False` for the same effect.\n",
      "\n",
      "  sns.barplot(x=value_counts.index[:top_n], y=value_counts.values[:top_n], palette='bright')\n"
     ]
    },
    {
     "data": {
      "image/png": "[encoded data removed]",
      "text/plain": [
       "<Figure size 1000x600 with 1 Axes>"
      ]
     },
     "metadata": {},
     "output_type": "display_data"
    },
    {
     "name": "stderr",
     "output_type": "stream",
     "text": [
      "/var/folders/fh/kyml8tjs61j6z54n3h59ptwh0000gn/T/ipykernel_11894/2219308396.py:14: FutureWarning: \n",
      "\n",
      "Passing `palette` without assigning `hue` is deprecated and will be removed in v0.14.0. Assign the `x` variable to `hue` and set `legend=False` for the same effect.\n",
      "\n",
      "  sns.barplot(x=value_counts.index[:top_n], y=value_counts.values[:top_n], palette='bright')\n"
     ]
    },
    {
     "data": {
      "image/png": "[encoded data removed]",
      "text/plain": [
       "<Figure size 1000x600 with 1 Axes>"
      ]
     },
     "metadata": {},
     "output_type": "display_data"
    },
    {
     "name": "stderr",
     "output_type": "stream",
     "text": [
      "/var/folders/fh/kyml8tjs61j6z54n3h59ptwh0000gn/T/ipykernel_11894/2219308396.py:14: FutureWarning: \n",
      "\n",
      "Passing `palette` without assigning `hue` is deprecated and will be removed in v0.14.0. Assign the `x` variable to `hue` and set `legend=False` for the same effect.\n",
      "\n",
      "  sns.barplot(x=value_counts.index[:top_n], y=value_counts.values[:top_n], palette='bright')\n"
     ]
    },
    {
     "data": {
      "image/png": "[encoded data removed]",
      "text/plain": [
       "<Figure size 1000x600 with 1 Axes>"
      ]
     },
     "metadata": {},
     "output_type": "display_data"
    },
    {
     "name": "stdout",
     "output_type": "stream",
     "text": [
      "\n",
      "Total Unique Universities: 184\n"
     ]
    }
   ],
   "source": [
    "# Function to display and visualize distributions for categorical columns\n",
    "def display_distribution(column_name, data, top_n=10, sort_by_value=True, visualize=True):\n",
    "    \n",
    "    # Get the value counts\n",
    "    value_counts = data[column_name].value_counts()\n",
    "\n",
    "    # Sort values if necessary\n",
    "    if sort_by_value:\n",
    "        value_counts = value_counts.sort_values(ascending=False)\n",
    "    \n",
    "    # Optional: Plot the distribution\n",
    "    if visualize:\n",
    "        plt.figure(figsize=(10, 6))\n",
    "        sns.barplot(x=value_counts.index[:top_n], y=value_counts.values[:top_n], palette='bright')\n",
    "        plt.title(f\"Top {top_n} {column_name} Distribution\")\n",
    "        plt.xlabel(column_name)\n",
    "        plt.ylabel('Frequency')\n",
    "        plt.xticks(rotation=45, ha=\"right\")\n",
    "        plt.tight_layout()\n",
    "        plt.show()\n",
    "\n",
    "# Displaying the distributions\n",
    "display_distribution('Difficulty Level', data, top_n=5)  # Adjust top_n as needed\n",
    "display_distribution('Course Rating', data, top_n=5)\n",
    "display_distribution('University', data, top_n=10, sort_by_value=False)  # For universities, you might not want to sort by count\n",
    "\n",
    "# Showing the count of unique universities\n",
    "print(f\"\\nTotal Unique Universities: {data['University'].nunique()}\")\n"
   ]
  },
  {
   "cell_type": "markdown",
   "id": "b84c5ac7",
   "metadata": {},
   "source": [
    "<h2 style=\"color: #232ED1;\">Text Preprocessing</h2>"
   ]
  },
  {
   "cell_type": "code",
   "execution_count": 13,
   "id": "e98bdce3",
   "metadata": {},
   "outputs": [
    {
     "name": "stdout",
     "output_type": "stream",
     "text": [
      "                                         Course Name  \\\n",
      "0  write a feature length screenplay for film or ...   \n",
      "1  business strategy business model canvas analys...   \n",
      "2                       silicon thin film solar cell   \n",
      "3                                finance for manager   \n",
      "4          retrieve data using singletable sql query   \n",
      "\n",
      "                                                tags  \n",
      "0  write a feature length screenplay for film or ...  \n",
      "1  business strategy business model canvas analys...  \n",
      "2  silicon thin film solar cell this course consi...  \n",
      "3  finance for manager when it come to number the...  \n",
      "4  retrieve data using singletable sql query in t...  \n"
     ]
    }
   ],
   "source": [
    "lemmatizer = WordNetLemmatizer()\n",
    "\n",
    "# Function for text cleaning (removing special characters, stopwords, and lemmatization)\n",
    "def clean_text(text):\n",
    "    text = re.sub(r'��+', '', text)  # This removes \"��\" or any repeated \"��\" characters\n",
    "    text = re.sub(r'[^\\x00-\\x7F]+', '', text)  # Removes non-ASCII characters\n",
    "    text = re.sub(r'[^a-zA-Z\\s]', '', text)  # Remove anything that is not a letter or space\n",
    "    text = text.lower()  # Convert text to lowercase\n",
    "    text = ' '.join([lemmatizer.lemmatize(word) for word in text.split()])  # Lemmatization\n",
    "    return text\n",
    "\n",
    "# Apply text cleaning to necessary columns\n",
    "data['Course Name'] = data['Course Name'].apply(clean_text)\n",
    "data['Course Description'] = data['Course Description'].apply(clean_text)\n",
    "data['Skills'] = data['Skills'].apply(clean_text)\n",
    "\n",
    "# Combine 'Course Name', 'Course Description', and 'Skills' into 'tags'\n",
    "data['tags'] = data['Course Name'] + ' ' + data['Course Description'] + ' ' + data['Skills']\n",
    "print(data[['Course Name', 'tags']].head())\n"
   ]
  },
  {
   "cell_type": "code",
   "execution_count": 14,
   "id": "f6fa97b4",
   "metadata": {},
   "outputs": [],
   "source": [
    "# Memory efficient datatypes"
   ]
  },
  {
   "cell_type": "code",
   "execution_count": 15,
   "id": "6ce32db5",
   "metadata": {},
   "outputs": [],
   "source": [
    "# Convert 'University' and 'Difficulty Level' to categorical to save memory\n",
    "data['University'] = data['University'].astype('category')\n",
    "data['Difficulty Level'] = data['Difficulty Level'].astype('category')\n",
    "\n",
    "# Optimize 'Course Rating' column to save memory\n",
    "data['Course Rating'] = data['Course Rating'].apply(lambda x: 0.0 if x == 'Not Calibrated' else pd.to_numeric(x, errors='coerce'))\n",
    "data['Course Rating'] = data['Course Rating'].astype('float32')\n"
   ]
  },
  {
   "cell_type": "markdown",
   "id": "51516e56",
   "metadata": {},
   "source": [
    "<h2 style=\"color: #232ED1;\">Text Vectorization (TF-IDF)</h2>"
   ]
  },
  {
   "cell_type": "code",
   "execution_count": 16,
   "id": "aab37f89",
   "metadata": {},
   "outputs": [
    {
     "name": "stdout",
     "output_type": "stream",
     "text": [
      "TF-IDF matrix shape: (3424, 5000)\n"
     ]
    }
   ],
   "source": [
    "vectorizer = TfidfVectorizer(stop_words='english', max_features=5000)\n",
    "tfidf_matrix = vectorizer.fit_transform(data['tags'])\n",
    "print(\"TF-IDF matrix shape:\", tfidf_matrix.shape)"
   ]
  },
  {
   "cell_type": "code",
   "execution_count": 17,
   "id": "493e2f7d",
   "metadata": {},
   "outputs": [
    {
     "name": "stdout",
     "output_type": "stream",
     "text": [
      "Reduced TF-IDF matrix shape: (3424, 100)\n"
     ]
    }
   ],
   "source": [
    "from sklearn.decomposition import TruncatedSVD\n",
    "\n",
    "# Apply SVD to reduce dimensions of the TF-IDF matrix\n",
    "n_components = 100\n",
    "svd = TruncatedSVD(n_components=n_components, random_state=42)\n",
    "tfidf_matrix = svd.fit_transform(tfidf_matrix)\n",
    "\n",
    "print(\"Reduced TF-IDF matrix shape:\", tfidf_matrix.shape)\n"
   ]
  },
  {
   "cell_type": "markdown",
   "id": "62f43488",
   "metadata": {},
   "source": [
    "<h2 style=\"color: #232ED1;\">Cosine Similarity and Recommendations</h2>"
   ]
  },
  {
   "cell_type": "code",
   "execution_count": 18,
   "id": "ab0769d7",
   "metadata": {
    "scrolled": true
   },
   "outputs": [
    {
     "name": "stdout",
     "output_type": "stream",
     "text": [
      "0.023688637916059643\n"
     ]
    }
   ],
   "source": [
    "similarity_matrix = cosine_similarity(tfidf_matrix)\n",
    "print(similarity_matrix[0][1])"
   ]
  },
  {
   "cell_type": "markdown",
   "id": "62948f78",
   "metadata": {},
   "source": [
    "<h2 style=\"color: #232ED1;\">Recommendation Function</h2>"
   ]
  },
  {
   "cell_type": "code",
   "execution_count": 19,
   "id": "e79b0a64",
   "metadata": {},
   "outputs": [
    {
     "name": "stdout",
     "output_type": "stream",
     "text": [
      "Recommendations based on 'Finance for Managers':\n",
      "\n",
      "- introduction to finance the basic (Adjusted Similarity Score: 0.97, Rating: 4.599999904632568)\n",
      "- finance for nonfinancial professional (Adjusted Similarity Score: 0.97, Rating: 4.5)\n",
      "- the language and tool of financial analysis (Adjusted Similarity Score: 0.96, Rating: 4.599999904632568)\n",
      "- finance for nonfinancial manager (Adjusted Similarity Score: 0.95, Rating: 4.199999809265137)\n"
     ]
    }
   ],
   "source": [
    "# Ensure 'Course Rating' is numeric, and handle errors gracefully\n",
    "data['Course Rating'] = pd.to_numeric(data['Course Rating'], errors='coerce')\n",
    "# Normalize ratings (if ratings are between 1 and 5)\n",
    "data['Normalized Rating'] = (data['Course Rating'] - data['Course Rating'].min()) / (data['Course Rating'].max() - data['Course Rating'].min())\n",
    "\n",
    "def recommend(course_name, top_n=5, threshold=70, min_rating=3):\n",
    "    \"\"\"\n",
    "    Recommend courses based on course name, taking into account both cosine similarity and ratings.\n",
    "\n",
    "    Args:\n",
    "    - course_name (str): Name of the course to base recommendations on.\n",
    "    - top_n (int): Number of top recommendations to display.\n",
    "    - threshold (int): Minimum similarity score for a course to be recommended.\n",
    "    - min_rating (int): Minimum rating a course must have to be recommended.\n",
    "    \"\"\"\n",
    "        \n",
    "        similarity_scores = list(enumerate(similarity_matrix[course_idx]))\n",
    "        sorted_courses = sorted(similarity_scores, key=lambda x: x[1], reverse=True)[1:]\n",
    "        \n",
    "        recommended_courses = []\n",
    "        \n",
    "        # Adjust recommendations using ratings\n",
    "        for idx, sim_score in sorted_courses[:top_n]:\n",
    "            course_rating = data.iloc[idx]['Course Rating']\n",
    "            if pd.isna(course_rating):\n",
    "                course_rating = data['Course Rating'].mean()  # Fallback to mean rating\n",
    "\n",
    "            # Normalize similarity score\n",
    "            sim_score = float(sim_score)\n",
    "            sim_min, sim_max = min(sim_score for _, sim_score in sorted_courses), max(sim_score for _, sim_score in sorted_courses)\n",
    "            normalized_sim_score = (sim_score - sim_min) / (sim_max - sim_min)\n",
    "\n",
    "            # Weighted scoring: 70% similarity, 30% rating\n",
    "            w_sim = 0.7\n",
    "            w_rating = 0.3\n",
    "            adjusted_score = (w_sim * normalized_sim_score) + (w_rating * (course_rating / 5))  # Rating normalized to [0,1]\n",
    "            \n",
    "            if course_rating >= min_rating:\n",
    "                recommended_courses.append((data.iloc[idx]['Course Name'], adjusted_score, course_rating))\n",
    "        \n",
    "        recommended_courses = sorted(recommended_courses, key=lambda x: x[1], reverse=True)\n",
    "        \n",
    "        # Display recommendations\n",
    "        for course_name, final_score, rating in recommended_courses:\n",
    "            print(f\"- {course_name} (Adjusted Similarity Score: {final_score:.2f}, Rating: {rating})\")\n",
    "    else:\n",
    "        print(f\"Course '{course_name}' not found.\")\n",
    "\n",
    "# Example usage with a course name\n",
    "recommend('Finance for Managers')\n"
   ]
  },
  {
   "cell_type": "markdown",
   "id": "ed13d0b8",
   "metadata": {},
   "source": [
    "<h2 style=\"color: #232ED1;\">Save the Model</h2>"
   ]
  },
  {
   "cell_type": "code",
   "execution_count": 20,
   "id": "8c3a275a",
   "metadata": {},
   "outputs": [],
   "source": [
    "# Saving the trained model\n",
    "pickle.dump(similarity_matrix, open('similarity_matrix.pkl', 'wb'))\n",
    "pickle.dump(vectorizer, open('tfidf_vectorizer.pkl', 'wb'))\n",
    "\n",
    "# In a web application or future use, you can load the model:\n",
    "# similarity_matrix = pickle.load(open('similarity_matrix.pkl', 'rb'))\n",
    "# vectorizer = pickle.load(open('tfidf_vectorizer.pkl', 'rb'))\n"
   ]
  }
 ],
 "metadata": {
  "kernelspec": {
   "display_name": "LearnStream",
   "language": "python",
   "name": "learnstream"
  },
  "language_info": {
   "codemirror_mode": {
    "name": "ipython",
    "version": 3
   },
   "file_extension": ".py",
   "mimetype": "text/x-python",
   "name": "python",
   "nbconvert_exporter": "python",
   "pygments_lexer": "ipython3",
   "version": "3.11.7"
  }
 },
 "nbformat": 4,
 "nbformat_minor": 5
}
