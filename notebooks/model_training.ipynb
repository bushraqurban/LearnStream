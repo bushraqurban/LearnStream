{
 "cells": [
  {
   "cell_type": "markdown",
   "id": "c76eba78",
   "metadata": {},
   "source": [
    "<h1 style=\"color: #232ED1;\">📊 Course Recommender System on Web App</h1>\n",
    "\n"
   ]
  },
  {
   "cell_type": "markdown",
   "id": "94e56f93",
   "metadata": {},
   "source": [
    "<h2 style=\"color: #232ED1;\">Import Dependencies</h2>"
   ]
  },
  {
   "cell_type": "code",
   "execution_count": 1,
   "id": "afeb49d3",
   "metadata": {},
   "outputs": [
    {
     "name": "stdout",
     "output_type": "stream",
     "text": [
      "Dependencies Imported\n"
     ]
    },
    {
     "name": "stderr",
     "output_type": "stream",
     "text": [
      "[nltk_data] Downloading package wordnet to /Users/bushra/nltk_data...\n",
      "[nltk_data]   Package wordnet is already up-to-date!\n"
     ]
    }
   ],
   "source": [
    "import numpy as np\n",
    "import pandas as pd\n",
    "from sklearn.feature_extraction.text import TfidfVectorizer\n",
    "from sklearn.metrics.pairwise import cosine_similarity\n",
    "from nltk.stem import WordNetLemmatizer\n",
    "from sklearn.decomposition import TruncatedSVD\n",
    "import pickle\n",
    "import nltk\n",
    "import re\n",
    "\n",
    "# Download wordnet once (if needed)\n",
    "try:\n",
    "    nltk.data.find('corpora/wordnet')\n",
    "except LookupError:\n",
    "    nltk.download('wordnet')\n",
    "\n",
    "\n",
    "print('Dependencies Imported')"
   ]
  },
  {
   "cell_type": "markdown",
   "id": "2b7a46c9",
   "metadata": {},
   "source": [
    "<h2 style=\"color: #232ED1;\">Load Dataset</h2>"
   ]
  },
  {
   "cell_type": "code",
   "execution_count": 2,
   "id": "046017bb",
   "metadata": {},
   "outputs": [],
   "source": [
    "data = pd.read_csv(\"coursera.csv\", encoding='utf-8')"
   ]
  },
  {
   "cell_type": "code",
   "execution_count": 3,
   "id": "5fd1ffb0",
   "metadata": {},
   "outputs": [
    {
     "data": {
      "text/html": [
       "<div>\n",
       "<style scoped>\n",
       "    .dataframe tbody tr th:only-of-type {\n",
       "        vertical-align: middle;\n",
       "    }\n",
       "\n",
       "    .dataframe tbody tr th {\n",
       "        vertical-align: top;\n",
       "    }\n",
       "\n",
       "    .dataframe thead th {\n",
       "        text-align: right;\n",
       "    }\n",
       "</style>\n",
       "<table border=\"1\" class=\"dataframe\">\n",
       "  <thead>\n",
       "    <tr style=\"text-align: right;\">\n",
       "      <th></th>\n",
       "      <th>Course Name</th>\n",
       "      <th>University</th>\n",
       "      <th>Difficulty Level</th>\n",
       "      <th>Course Rating</th>\n",
       "      <th>Course URL</th>\n",
       "      <th>Course Description</th>\n",
       "      <th>Skills</th>\n",
       "    </tr>\n",
       "  </thead>\n",
       "  <tbody>\n",
       "    <tr>\n",
       "      <th>0</th>\n",
       "      <td>Write A Feature Length Screenplay For Film Or ...</td>\n",
       "      <td>Michigan State University</td>\n",
       "      <td>Beginner</td>\n",
       "      <td>4.8</td>\n",
       "      <td>https://www.coursera.org/learn/write-a-feature...</td>\n",
       "      <td>Write a Full Length Feature Film Script  In th...</td>\n",
       "      <td>Drama  Comedy  peering  screenwriting  film  D...</td>\n",
       "    </tr>\n",
       "    <tr>\n",
       "      <th>1</th>\n",
       "      <td>Business Strategy: Business Model Canvas Analy...</td>\n",
       "      <td>Coursera Project Network</td>\n",
       "      <td>Beginner</td>\n",
       "      <td>4.8</td>\n",
       "      <td>https://www.coursera.org/learn/canvas-analysis...</td>\n",
       "      <td>By the end of this guided project, you will be...</td>\n",
       "      <td>Finance  business plan  persona (user experien...</td>\n",
       "    </tr>\n",
       "    <tr>\n",
       "      <th>2</th>\n",
       "      <td>Silicon Thin Film Solar Cells</td>\n",
       "      <td>�cole Polytechnique</td>\n",
       "      <td>Advanced</td>\n",
       "      <td>4.1</td>\n",
       "      <td>https://www.coursera.org/learn/silicon-thin-fi...</td>\n",
       "      <td>This course consists of a general presentation...</td>\n",
       "      <td>chemistry  physics  Solar Energy  film  lambda...</td>\n",
       "    </tr>\n",
       "    <tr>\n",
       "      <th>3</th>\n",
       "      <td>Finance for Managers</td>\n",
       "      <td>IESE Business School</td>\n",
       "      <td>Intermediate</td>\n",
       "      <td>4.8</td>\n",
       "      <td>https://www.coursera.org/learn/operational-fin...</td>\n",
       "      <td>When it comes to numbers, there is always more...</td>\n",
       "      <td>accounts receivable  dupont analysis  analysis...</td>\n",
       "    </tr>\n",
       "    <tr>\n",
       "      <th>4</th>\n",
       "      <td>Retrieve Data using Single-Table SQL Queries</td>\n",
       "      <td>Coursera Project Network</td>\n",
       "      <td>Beginner</td>\n",
       "      <td>4.6</td>\n",
       "      <td>https://www.coursera.org/learn/single-table-sq...</td>\n",
       "      <td>In this course you�ll learn how to effectively...</td>\n",
       "      <td>Data Analysis  select (sql)  database manageme...</td>\n",
       "    </tr>\n",
       "  </tbody>\n",
       "</table>\n",
       "</div>"
      ],
      "text/plain": [
       "                                         Course Name  \\\n",
       "0  Write A Feature Length Screenplay For Film Or ...   \n",
       "1  Business Strategy: Business Model Canvas Analy...   \n",
       "2                      Silicon Thin Film Solar Cells   \n",
       "3                               Finance for Managers   \n",
       "4       Retrieve Data using Single-Table SQL Queries   \n",
       "\n",
       "                  University Difficulty Level Course Rating  \\\n",
       "0  Michigan State University         Beginner           4.8   \n",
       "1   Coursera Project Network         Beginner           4.8   \n",
       "2        �cole Polytechnique         Advanced           4.1   \n",
       "3       IESE Business School     Intermediate           4.8   \n",
       "4   Coursera Project Network         Beginner           4.6   \n",
       "\n",
       "                                          Course URL  \\\n",
       "0  https://www.coursera.org/learn/write-a-feature...   \n",
       "1  https://www.coursera.org/learn/canvas-analysis...   \n",
       "2  https://www.coursera.org/learn/silicon-thin-fi...   \n",
       "3  https://www.coursera.org/learn/operational-fin...   \n",
       "4  https://www.coursera.org/learn/single-table-sq...   \n",
       "\n",
       "                                  Course Description  \\\n",
       "0  Write a Full Length Feature Film Script  In th...   \n",
       "1  By the end of this guided project, you will be...   \n",
       "2  This course consists of a general presentation...   \n",
       "3  When it comes to numbers, there is always more...   \n",
       "4  In this course you�ll learn how to effectively...   \n",
       "\n",
       "                                              Skills  \n",
       "0  Drama  Comedy  peering  screenwriting  film  D...  \n",
       "1  Finance  business plan  persona (user experien...  \n",
       "2  chemistry  physics  Solar Energy  film  lambda...  \n",
       "3  accounts receivable  dupont analysis  analysis...  \n",
       "4  Data Analysis  select (sql)  database manageme...  "
      ]
     },
     "execution_count": 3,
     "metadata": {},
     "output_type": "execute_result"
    }
   ],
   "source": [
    "data.head()"
   ]
  },
  {
   "cell_type": "markdown",
   "id": "c30c8dec",
   "metadata": {},
   "source": [
    "<h2 style=\"color: #232ED1;\">Basic Data Inspection</h2>"
   ]
  },
  {
   "cell_type": "code",
   "execution_count": 4,
   "id": "5cb80836",
   "metadata": {
    "scrolled": true
   },
   "outputs": [
    {
     "data": {
      "text/plain": [
       "(3522, 7)"
      ]
     },
     "execution_count": 4,
     "metadata": {},
     "output_type": "execute_result"
    }
   ],
   "source": [
    "data.shape"
   ]
  },
  {
   "cell_type": "code",
   "execution_count": 5,
   "id": "95cde0c6",
   "metadata": {
    "scrolled": true
   },
   "outputs": [
    {
     "name": "stdout",
     "output_type": "stream",
     "text": [
      "<class 'pandas.core.frame.DataFrame'>\n",
      "RangeIndex: 3522 entries, 0 to 3521\n",
      "Data columns (total 7 columns):\n",
      " #   Column              Non-Null Count  Dtype \n",
      "---  ------              --------------  ----- \n",
      " 0   Course Name         3522 non-null   object\n",
      " 1   University          3522 non-null   object\n",
      " 2   Difficulty Level    3522 non-null   object\n",
      " 3   Course Rating       3522 non-null   object\n",
      " 4   Course URL          3522 non-null   object\n",
      " 5   Course Description  3522 non-null   object\n",
      " 6   Skills              3522 non-null   object\n",
      "dtypes: object(7)\n",
      "memory usage: 192.7+ KB\n"
     ]
    }
   ],
   "source": [
    "data.info()"
   ]
  },
  {
   "cell_type": "code",
   "execution_count": 6,
   "id": "f08d2540",
   "metadata": {},
   "outputs": [
    {
     "data": {
      "text/plain": [
       "Course Name           0\n",
       "University            0\n",
       "Difficulty Level      0\n",
       "Course Rating         0\n",
       "Course URL            0\n",
       "Course Description    0\n",
       "Skills                0\n",
       "dtype: int64"
      ]
     },
     "execution_count": 6,
     "metadata": {},
     "output_type": "execute_result"
    }
   ],
   "source": [
    "data.isnull().sum()"
   ]
  },
  {
   "cell_type": "code",
   "execution_count": 7,
   "id": "01cab0bc",
   "metadata": {
    "scrolled": true
   },
   "outputs": [
    {
     "data": {
      "text/plain": [
       "Course Name           3416\n",
       "University             184\n",
       "Difficulty Level         5\n",
       "Course Rating           31\n",
       "Course URL            3424\n",
       "Course Description    3397\n",
       "Skills                3424\n",
       "dtype: int64"
      ]
     },
     "execution_count": 7,
     "metadata": {},
     "output_type": "execute_result"
    }
   ],
   "source": [
    "data.nunique()"
   ]
  },
  {
   "cell_type": "code",
   "execution_count": 8,
   "id": "3b12b05c",
   "metadata": {},
   "outputs": [
    {
     "data": {
      "text/plain": [
       "np.int64(98)"
      ]
     },
     "execution_count": 8,
     "metadata": {},
     "output_type": "execute_result"
    }
   ],
   "source": [
    "data.duplicated().sum()"
   ]
  },
  {
   "cell_type": "code",
   "execution_count": 9,
   "id": "6933f893",
   "metadata": {},
   "outputs": [
    {
     "data": {
      "text/plain": [
       "(3424, 7)"
      ]
     },
     "execution_count": 9,
     "metadata": {},
     "output_type": "execute_result"
    }
   ],
   "source": [
    "# Remove duplicates based on specific columns\n",
    "data = data.drop_duplicates(subset=['Course Name', 'University', 'Difficulty Level', 'Course Rating',\n",
    "       'Course URL', 'Course Description'])\n",
    "data.shape"
   ]
  },
  {
   "cell_type": "markdown",
   "id": "b84c5ac7",
   "metadata": {},
   "source": [
    "<h2 style=\"color: #232ED1;\">Text Preprocessing on Training Data</h2>"
   ]
  },
  {
   "cell_type": "code",
   "execution_count": 10,
   "id": "e98bdce3",
   "metadata": {},
   "outputs": [],
   "source": [
    "lemmatizer = WordNetLemmatizer()\n",
    "\n",
    "# Function for text cleaning (removing special characters, stopwords, and lemmatization)\n",
    "def clean_for_tags(text):\n",
    "    text = re.sub(r'��+', '', text)  # This removes \"��\" or any repeated \"��\" characters\n",
    "    text = re.sub(r'[^\\x00-\\x7F]+', '', text)  # Removes non-ASCII characters\n",
    "    text = re.sub(r'[^a-zA-Z\\s]', '', text)  # Remove anything that is not a letter or space\n",
    "    text = text.lower()  # Convert text to lowercase\n",
    "    text = ' '.join([lemmatizer.lemmatize(word) for word in text.split()])  # Lemmatization\n",
    "    return text\n",
    "\n",
    "training_data = data.copy()\n",
    "\n",
    "# Apply clean_for_tags on columns to be used in tags column\n",
    "training_data['Course Name'] = training_data['Course Name'].apply(clean_for_tags)\n",
    "training_data['Course Description'] = training_data['Course Description'].apply(clean_for_tags)\n",
    "training_data['Skills'] = training_data['Skills'].apply(clean_for_tags)\n",
    "\n",
    "# Combine 'Course Name', 'Course Description', and 'Skills' into 'tags'\n",
    "data['tags'] = training_data['Course Name'] + ' ' + training_data['Course Description'] + ' ' + training_data['Skills']\n",
    "\n",
    "training_data = data[['Course Name', 'tags']]"
   ]
  },
  {
   "cell_type": "code",
   "execution_count": 11,
   "id": "d6885a74",
   "metadata": {},
   "outputs": [
    {
     "data": {
      "text/html": [
       "<div>\n",
       "<style scoped>\n",
       "    .dataframe tbody tr th:only-of-type {\n",
       "        vertical-align: middle;\n",
       "    }\n",
       "\n",
       "    .dataframe tbody tr th {\n",
       "        vertical-align: top;\n",
       "    }\n",
       "\n",
       "    .dataframe thead th {\n",
       "        text-align: right;\n",
       "    }\n",
       "</style>\n",
       "<table border=\"1\" class=\"dataframe\">\n",
       "  <thead>\n",
       "    <tr style=\"text-align: right;\">\n",
       "      <th></th>\n",
       "      <th>Course Name</th>\n",
       "      <th>tags</th>\n",
       "    </tr>\n",
       "  </thead>\n",
       "  <tbody>\n",
       "    <tr>\n",
       "      <th>0</th>\n",
       "      <td>Write A Feature Length Screenplay For Film Or ...</td>\n",
       "      <td>write a feature length screenplay for film or ...</td>\n",
       "    </tr>\n",
       "    <tr>\n",
       "      <th>1</th>\n",
       "      <td>Business Strategy: Business Model Canvas Analy...</td>\n",
       "      <td>business strategy business model canvas analys...</td>\n",
       "    </tr>\n",
       "    <tr>\n",
       "      <th>2</th>\n",
       "      <td>Silicon Thin Film Solar Cells</td>\n",
       "      <td>silicon thin film solar cell this course consi...</td>\n",
       "    </tr>\n",
       "    <tr>\n",
       "      <th>3</th>\n",
       "      <td>Finance for Managers</td>\n",
       "      <td>finance for manager when it come to number the...</td>\n",
       "    </tr>\n",
       "    <tr>\n",
       "      <th>4</th>\n",
       "      <td>Retrieve Data using Single-Table SQL Queries</td>\n",
       "      <td>retrieve data using singletable sql query in t...</td>\n",
       "    </tr>\n",
       "  </tbody>\n",
       "</table>\n",
       "</div>"
      ],
      "text/plain": [
       "                                         Course Name  \\\n",
       "0  Write A Feature Length Screenplay For Film Or ...   \n",
       "1  Business Strategy: Business Model Canvas Analy...   \n",
       "2                      Silicon Thin Film Solar Cells   \n",
       "3                               Finance for Managers   \n",
       "4       Retrieve Data using Single-Table SQL Queries   \n",
       "\n",
       "                                                tags  \n",
       "0  write a feature length screenplay for film or ...  \n",
       "1  business strategy business model canvas analys...  \n",
       "2  silicon thin film solar cell this course consi...  \n",
       "3  finance for manager when it come to number the...  \n",
       "4  retrieve data using singletable sql query in t...  "
      ]
     },
     "execution_count": 11,
     "metadata": {},
     "output_type": "execute_result"
    }
   ],
   "source": [
    "training_data.head()"
   ]
  },
  {
   "cell_type": "markdown",
   "id": "51516e56",
   "metadata": {},
   "source": [
    "<h2 style=\"color: #232ED1;\">Text Vectorization (TF-IDF)</h2>"
   ]
  },
  {
   "cell_type": "code",
   "execution_count": 12,
   "id": "aab37f89",
   "metadata": {},
   "outputs": [
    {
     "name": "stdout",
     "output_type": "stream",
     "text": [
      "TF-IDF matrix shape: (3424, 5000)\n"
     ]
    }
   ],
   "source": [
    "vectorizer = TfidfVectorizer(stop_words='english', max_features=5000)\n",
    "tfidf_matrix = vectorizer.fit_transform(training_data['tags'])\n",
    "print(\"TF-IDF matrix shape:\", tfidf_matrix.shape)"
   ]
  },
  {
   "cell_type": "markdown",
   "id": "42cdb85d",
   "metadata": {},
   "source": [
    "<h2 style=\"color: #232ED1;\">Apply SVD on TF-IDF</h2>"
   ]
  },
  {
   "cell_type": "code",
   "execution_count": 13,
   "id": "493e2f7d",
   "metadata": {},
   "outputs": [
    {
     "name": "stdout",
     "output_type": "stream",
     "text": [
      "Reduced TF-IDF matrix shape: (3424, 100)\n"
     ]
    }
   ],
   "source": [
    "n_components = 100 # Reduce to 100 dimensions\n",
    "svd = TruncatedSVD(n_components=n_components, random_state=42)\n",
    "tfidf_matrix = svd.fit_transform(tfidf_matrix)\n",
    "\n",
    "print(\"Reduced TF-IDF matrix shape:\", tfidf_matrix.shape)\n"
   ]
  },
  {
   "cell_type": "markdown",
   "id": "62f43488",
   "metadata": {},
   "source": [
    "<h2 style=\"color: #232ED1;\">Cosine Similarity and Recommendations</h2>"
   ]
  },
  {
   "cell_type": "code",
   "execution_count": 14,
   "id": "ab0769d7",
   "metadata": {
    "scrolled": true
   },
   "outputs": [
    {
     "name": "stdout",
     "output_type": "stream",
     "text": [
      "0.023688637916059643\n"
     ]
    }
   ],
   "source": [
    "similarity_matrix = cosine_similarity(tfidf_matrix)\n",
    "print(similarity_matrix[0][1])"
   ]
  },
  {
   "cell_type": "markdown",
   "id": "62948f78",
   "metadata": {},
   "source": [
    "<h2 style=\"color: #232ED1;\">Functions for Recommendation</h2>"
   ]
  },
  {
   "cell_type": "code",
   "execution_count": 15,
   "id": "9333fc14",
   "metadata": {},
   "outputs": [],
   "source": [
    "def normalize_rating(rating_str):\n",
    "    \"\"\"\n",
    "    Normalize the course rating to a 0-1 scale.\n",
    "    \"\"\"\n",
    "    try:\n",
    "        return (float(rating_str) - 0) / (5 - 0)  # Normalize to 0-1\n",
    "    except ValueError:\n",
    "        return 0  "
   ]
  },
  {
   "cell_type": "code",
   "execution_count": 17,
   "id": "a990f12f",
   "metadata": {},
   "outputs": [],
   "source": [
    "def get_recommendations(course_name, data, similarity_matrix, top_n=3, threshold=90, rating_weight=0.05):\n",
    "    \"\"\"\n",
    "    Get top N course recommendations based on similarity to the given course name.\n",
    "    \"\"\"\n",
    "    course_name = data[data['Course Name'] == course_name]  # Filter data for selected course\n",
    "    course_idx = course_name.index[0]  # Get the index of the selected course\n",
    "    similarity_scores = list(enumerate(similarity_matrix[course_idx]))  # Get similarity scores for all courses\n",
    "    \n",
    "    recommendations = []\n",
    "    for idx, similarity_score in sorted(similarity_scores, key=lambda x: x[1], reverse=True)[:top_n]:\n",
    "        course_data = data.iloc[idx]  # Get course data for the current recommendation\n",
    "        normalized_rating = normalize_rating(course_data.get('Course Rating', '0'))  # Normalize rating\n",
    "\n",
    "        # Prepare recommendation dictionary with relevant course information\n",
    "        recommendations.append({\n",
    "            \"course_name\": course_data['Course Name'],\n",
    "            \"course_url\": course_data.get('Course URL', ''),\n",
    "            \"rating\": course_data['Course Rating'],\n",
    "            \"institution\": course_data.get('University', 'Unknown'),\n",
    "            \"difficulty_level\": course_data.get('Difficulty Level', 'Unknown'),\n",
    "            \"similarity\": similarity_score,\n",
    "            \"final_score\": similarity_score * (1 - rating_weight) + normalized_rating * rating_weight \n",
    "        })\n",
    "\n",
    "    return sorted(recommendations, key=lambda x: x['final_score'], reverse=True)"
   ]
  },
  {
   "cell_type": "code",
   "execution_count": 18,
   "id": "201f8d31",
   "metadata": {},
   "outputs": [
    {
     "data": {
      "text/plain": [
       "[{'course_name': 'Finance for Managers',\n",
       "  'course_url': 'https://www.coursera.org/learn/operational-finance',\n",
       "  'rating': '4.8',\n",
       "  'institution': 'IESE Business School',\n",
       "  'difficulty_level': 'Intermediate',\n",
       "  'similarity': np.float64(1.0),\n",
       "  'final_score': np.float64(0.998)},\n",
       " {'course_name': 'Finance for Non-Financial Professionals',\n",
       "  'course_url': 'https://www.coursera.org/learn/finance-for-non-finance-managers',\n",
       "  'rating': '4.5',\n",
       "  'institution': 'University of California, Irvine',\n",
       "  'difficulty_level': 'Conversant',\n",
       "  'similarity': np.float64(0.832940692838965),\n",
       "  'final_score': np.float64(0.8362936581970167)},\n",
       " {'course_name': 'Finance for Non-Financial Managers',\n",
       "  'course_url': 'https://www.coursera.org/learn/finance-for-non-financial-managers',\n",
       "  'rating': '4.2',\n",
       "  'institution': 'Emory University',\n",
       "  'difficulty_level': 'Beginner',\n",
       "  'similarity': np.float64(0.8315387472926317),\n",
       "  'final_score': np.float64(0.8319618099280001)}]"
      ]
     },
     "execution_count": 18,
     "metadata": {},
     "output_type": "execute_result"
    }
   ],
   "source": [
    "get_recommendations('Finance for Managers', data, similarity_matrix)"
   ]
  },
  {
   "cell_type": "markdown",
   "id": "ed13d0b8",
   "metadata": {},
   "source": [
    "<h2 style=\"color: #232ED1;\">Save the Model</h2>"
   ]
  },
  {
   "cell_type": "code",
   "execution_count": 19,
   "id": "8c3a275a",
   "metadata": {},
   "outputs": [],
   "source": [
    "pickle.dump(similarity_matrix, open('similarity_matrix.pkl', 'wb'))"
   ]
  }
 ],
 "metadata": {
  "kernelspec": {
   "display_name": "LearnStream",
   "language": "python",
   "name": "learnstream"
  },
  "language_info": {
   "codemirror_mode": {
    "name": "ipython",
    "version": 3
   },
   "file_extension": ".py",
   "mimetype": "text/x-python",
   "name": "python",
   "nbconvert_exporter": "python",
   "pygments_lexer": "ipython3",
   "version": "3.11.7"
  }
 },
 "nbformat": 4,
 "nbformat_minor": 5
}
